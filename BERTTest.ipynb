{
 "cells": [
  {
   "cell_type": "code",
   "execution_count": 2,
   "metadata": {},
   "outputs": [
    {
     "name": "stderr",
     "output_type": "stream",
     "text": [
      "c:\\Users\\10\\AppData\\Local\\Programs\\Python\\Python310\\lib\\site-packages\\tqdm\\auto.py:22: TqdmWarning: IProgress not found. Please update jupyter and ipywidgets. See https://ipywidgets.readthedocs.io/en/stable/user_install.html\n",
      "  from .autonotebook import tqdm as notebook_tqdm\n"
     ]
    }
   ],
   "source": [
    "import matplotlib.pyplot as plt\n",
    "import numpy as np\n",
    "from sentence_transformers import SentenceTransformer\n",
    "import pandas as pd\n",
    "import seaborn as sns\n",
    "from sklearn.feature_extraction.text import CountVectorizer\n",
    "from sklearn.cluster import KMeans\n",
    "from sklearn.metrics.pairwise import cosine_similarity\n",
    "from sklearn.decomposition import PCA\n",
    "\n",
    "plt.style.use('ggplot')\n",
    "plt.rcParams['font.family'] = 'sans-serif' \n",
    "plt.rcParams['font.serif'] = 'Ubuntu' \n",
    "plt.rcParams['font.monospace'] = 'Ubuntu Mono' \n",
    "plt.rcParams['font.size'] = 14 \n",
    "plt.rcParams['axes.labelsize'] = 12 \n",
    "plt.rcParams['axes.labelweight'] = 'bold' \n",
    "plt.rcParams['axes.titlesize'] = 12 \n",
    "plt.rcParams['xtick.labelsize'] = 12 \n",
    "plt.rcParams['ytick.labelsize'] = 12 \n",
    "plt.rcParams['legend.fontsize'] = 12 \n",
    "plt.rcParams['figure.titlesize'] = 12 \n",
    "plt.rcParams['image.cmap'] = 'jet' \n",
    "plt.rcParams['image.interpolation'] = 'none' \n",
    "plt.rcParams['figure.figsize'] = (12, 10) \n",
    "plt.rcParams['axes.grid']=True\n",
    "plt.rcParams['lines.linewidth'] = 2 \n",
    "plt.rcParams['lines.markersize'] = 8\n",
    "colors = ['xkcd:pale orange', 'xkcd:sea blue', 'xkcd:pale red', 'xkcd:sage green', 'xkcd:terra cotta', 'xkcd:dull purple', 'xkcd:teal', 'xkcd: goldenrod', 'xkcd:cadet blue',\n",
    "'xkcd:scarlet']"
   ]
  },
  {
   "cell_type": "code",
   "execution_count": 4,
   "metadata": {},
   "outputs": [
    {
     "data": {
      "text/html": [
       "<div>\n",
       "<style scoped>\n",
       "    .dataframe tbody tr th:only-of-type {\n",
       "        vertical-align: middle;\n",
       "    }\n",
       "\n",
       "    .dataframe tbody tr th {\n",
       "        vertical-align: top;\n",
       "    }\n",
       "\n",
       "    .dataframe thead th {\n",
       "        text-align: right;\n",
       "    }\n",
       "</style>\n",
       "<table border=\"1\" class=\"dataframe\">\n",
       "  <thead>\n",
       "    <tr style=\"text-align: right;\">\n",
       "      <th></th>\n",
       "      <th>Unnamed: 0</th>\n",
       "      <th>Title</th>\n",
       "      <th>Author</th>\n",
       "      <th>Year</th>\n",
       "      <th>Rating</th>\n",
       "      <th>Raters</th>\n",
       "      <th>Genres</th>\n",
       "      <th>Description</th>\n",
       "    </tr>\n",
       "  </thead>\n",
       "  <tbody>\n",
       "    <tr>\n",
       "      <th>0</th>\n",
       "      <td>0</td>\n",
       "      <td>The Shining (Paperback)</td>\n",
       "      <td>Stephen King</td>\n",
       "      <td>1977</td>\n",
       "      <td>4.26</td>\n",
       "      <td>1342128</td>\n",
       "      <td>Horror,Fiction,Thriller,Classics,Fantasy,Fanta...</td>\n",
       "      <td>Jack Torrance's new job at the Overlook Hotel ...</td>\n",
       "    </tr>\n",
       "    <tr>\n",
       "      <th>1</th>\n",
       "      <td>1</td>\n",
       "      <td>It (Paperback)</td>\n",
       "      <td>Stephen King</td>\n",
       "      <td>1984</td>\n",
       "      <td>4.25</td>\n",
       "      <td>988428</td>\n",
       "      <td>Horror,Fiction,Thriller,Fantasy,Audiobook,Clas...</td>\n",
       "      <td>Welcome to Derry, Maine ...It’s a small city, ...</td>\n",
       "    </tr>\n",
       "    <tr>\n",
       "      <th>2</th>\n",
       "      <td>2</td>\n",
       "      <td>Dracula (Paperback)</td>\n",
       "      <td>Bram Stoker</td>\n",
       "      <td>1897</td>\n",
       "      <td>4.01</td>\n",
       "      <td>1134432</td>\n",
       "      <td>Classics,Horror,Fiction,Fantasy,Paranormal,Got...</td>\n",
       "      <td>You can find an alternative cover edition for ...</td>\n",
       "    </tr>\n",
       "    <tr>\n",
       "      <th>3</th>\n",
       "      <td>3</td>\n",
       "      <td>Carrie (Mass Market Paperback)</td>\n",
       "      <td>Stephen King</td>\n",
       "      <td>1974</td>\n",
       "      <td>3.98</td>\n",
       "      <td>636575</td>\n",
       "      <td>Horror,Fiction,Thriller,Fantasy,Fantasy,Classi...</td>\n",
       "      <td>A modern classic, Carrie introduced a distinct...</td>\n",
       "    </tr>\n",
       "    <tr>\n",
       "      <th>4</th>\n",
       "      <td>4</td>\n",
       "      <td>Pet Sematary (Kindle Edition)</td>\n",
       "      <td>Stephen King</td>\n",
       "      <td>1983</td>\n",
       "      <td>4.04</td>\n",
       "      <td>521288</td>\n",
       "      <td>Horror,Fiction,Thriller,Fantasy,Audiobook,Fant...</td>\n",
       "      <td>'This is an alternate Cover Edition for ASIN: ...</td>\n",
       "    </tr>\n",
       "  </tbody>\n",
       "</table>\n",
       "</div>"
      ],
      "text/plain": [
       "   Unnamed: 0                           Title        Author  Year  Rating  \\\n",
       "0           0         The Shining (Paperback)  Stephen King  1977    4.26   \n",
       "1           1                  It (Paperback)  Stephen King  1984    4.25   \n",
       "2           2             Dracula (Paperback)   Bram Stoker  1897    4.01   \n",
       "3           3  Carrie (Mass Market Paperback)  Stephen King  1974    3.98   \n",
       "4           4   Pet Sematary (Kindle Edition)  Stephen King  1983    4.04   \n",
       "\n",
       "    Raters                                             Genres  \\\n",
       "0  1342128  Horror,Fiction,Thriller,Classics,Fantasy,Fanta...   \n",
       "1   988428  Horror,Fiction,Thriller,Fantasy,Audiobook,Clas...   \n",
       "2  1134432  Classics,Horror,Fiction,Fantasy,Paranormal,Got...   \n",
       "3   636575  Horror,Fiction,Thriller,Fantasy,Fantasy,Classi...   \n",
       "4   521288  Horror,Fiction,Thriller,Fantasy,Audiobook,Fant...   \n",
       "\n",
       "                                         Description  \n",
       "0  Jack Torrance's new job at the Overlook Hotel ...  \n",
       "1  Welcome to Derry, Maine ...It’s a small city, ...  \n",
       "2  You can find an alternative cover edition for ...  \n",
       "3  A modern classic, Carrie introduced a distinct...  \n",
       "4  'This is an alternate Cover Edition for ASIN: ...  "
      ]
     },
     "execution_count": 4,
     "metadata": {},
     "output_type": "execute_result"
    }
   ],
   "source": [
    "df = pd.read_csv('HorrorCleanedAndJoined.csv')\n",
    "df.head()"
   ]
  },
  {
   "cell_type": "code",
   "execution_count": 5,
   "metadata": {},
   "outputs": [
    {
     "data": {
      "text/html": [
       "<div>\n",
       "<style scoped>\n",
       "    .dataframe tbody tr th:only-of-type {\n",
       "        vertical-align: middle;\n",
       "    }\n",
       "\n",
       "    .dataframe tbody tr th {\n",
       "        vertical-align: top;\n",
       "    }\n",
       "\n",
       "    .dataframe thead th {\n",
       "        text-align: right;\n",
       "    }\n",
       "</style>\n",
       "<table border=\"1\" class=\"dataframe\">\n",
       "  <thead>\n",
       "    <tr style=\"text-align: right;\">\n",
       "      <th></th>\n",
       "      <th>Title</th>\n",
       "      <th>Author</th>\n",
       "      <th>Year</th>\n",
       "      <th>Rating</th>\n",
       "      <th>Raters</th>\n",
       "      <th>Genres</th>\n",
       "      <th>Description</th>\n",
       "    </tr>\n",
       "  </thead>\n",
       "  <tbody>\n",
       "    <tr>\n",
       "      <th>0</th>\n",
       "      <td>The Shining (Paperback)</td>\n",
       "      <td>Stephen King</td>\n",
       "      <td>1977</td>\n",
       "      <td>4.26</td>\n",
       "      <td>1342128</td>\n",
       "      <td>Horror,Fiction,Thriller,Classics,Fantasy,Fanta...</td>\n",
       "      <td>Jack Torrance's new job at the Overlook Hotel ...</td>\n",
       "    </tr>\n",
       "    <tr>\n",
       "      <th>1</th>\n",
       "      <td>It (Paperback)</td>\n",
       "      <td>Stephen King</td>\n",
       "      <td>1984</td>\n",
       "      <td>4.25</td>\n",
       "      <td>988428</td>\n",
       "      <td>Horror,Fiction,Thriller,Fantasy,Audiobook,Clas...</td>\n",
       "      <td>Welcome to Derry, Maine ...It’s a small city, ...</td>\n",
       "    </tr>\n",
       "    <tr>\n",
       "      <th>2</th>\n",
       "      <td>Dracula (Paperback)</td>\n",
       "      <td>Bram Stoker</td>\n",
       "      <td>1897</td>\n",
       "      <td>4.01</td>\n",
       "      <td>1134432</td>\n",
       "      <td>Classics,Horror,Fiction,Fantasy,Paranormal,Got...</td>\n",
       "      <td>You can find an alternative cover edition for ...</td>\n",
       "    </tr>\n",
       "    <tr>\n",
       "      <th>3</th>\n",
       "      <td>Carrie (Mass Market Paperback)</td>\n",
       "      <td>Stephen King</td>\n",
       "      <td>1974</td>\n",
       "      <td>3.98</td>\n",
       "      <td>636575</td>\n",
       "      <td>Horror,Fiction,Thriller,Fantasy,Fantasy,Classi...</td>\n",
       "      <td>A modern classic, Carrie introduced a distinct...</td>\n",
       "    </tr>\n",
       "    <tr>\n",
       "      <th>4</th>\n",
       "      <td>Pet Sematary (Kindle Edition)</td>\n",
       "      <td>Stephen King</td>\n",
       "      <td>1983</td>\n",
       "      <td>4.04</td>\n",
       "      <td>521288</td>\n",
       "      <td>Horror,Fiction,Thriller,Fantasy,Audiobook,Fant...</td>\n",
       "      <td>'This is an alternate Cover Edition for ASIN: ...</td>\n",
       "    </tr>\n",
       "  </tbody>\n",
       "</table>\n",
       "</div>"
      ],
      "text/plain": [
       "                            Title        Author  Year  Rating   Raters  \\\n",
       "0         The Shining (Paperback)  Stephen King  1977    4.26  1342128   \n",
       "1                  It (Paperback)  Stephen King  1984    4.25   988428   \n",
       "2             Dracula (Paperback)   Bram Stoker  1897    4.01  1134432   \n",
       "3  Carrie (Mass Market Paperback)  Stephen King  1974    3.98   636575   \n",
       "4   Pet Sematary (Kindle Edition)  Stephen King  1983    4.04   521288   \n",
       "\n",
       "                                              Genres  \\\n",
       "0  Horror,Fiction,Thriller,Classics,Fantasy,Fanta...   \n",
       "1  Horror,Fiction,Thriller,Fantasy,Audiobook,Clas...   \n",
       "2  Classics,Horror,Fiction,Fantasy,Paranormal,Got...   \n",
       "3  Horror,Fiction,Thriller,Fantasy,Fantasy,Classi...   \n",
       "4  Horror,Fiction,Thriller,Fantasy,Audiobook,Fant...   \n",
       "\n",
       "                                         Description  \n",
       "0  Jack Torrance's new job at the Overlook Hotel ...  \n",
       "1  Welcome to Derry, Maine ...It’s a small city, ...  \n",
       "2  You can find an alternative cover edition for ...  \n",
       "3  A modern classic, Carrie introduced a distinct...  \n",
       "4  'This is an alternate Cover Edition for ASIN: ...  "
      ]
     },
     "execution_count": 5,
     "metadata": {},
     "output_type": "execute_result"
    }
   ],
   "source": [
    "df = df.drop(\"Unnamed: 0\", axis = 1)\n",
    "df.head()"
   ]
  },
  {
   "cell_type": "code",
   "execution_count": 11,
   "metadata": {},
   "outputs": [],
   "source": [
    "X = np.array(df.Description)"
   ]
  },
  {
   "cell_type": "code",
   "execution_count": 6,
   "metadata": {},
   "outputs": [
    {
     "data": {
      "text/html": [
       "<div>\n",
       "<style scoped>\n",
       "    .dataframe tbody tr th:only-of-type {\n",
       "        vertical-align: middle;\n",
       "    }\n",
       "\n",
       "    .dataframe tbody tr th {\n",
       "        vertical-align: top;\n",
       "    }\n",
       "\n",
       "    .dataframe thead th {\n",
       "        text-align: right;\n",
       "    }\n",
       "</style>\n",
       "<table border=\"1\" class=\"dataframe\">\n",
       "  <thead>\n",
       "    <tr style=\"text-align: right;\">\n",
       "      <th></th>\n",
       "      <th>Title</th>\n",
       "      <th>Description</th>\n",
       "      <th>Genres</th>\n",
       "    </tr>\n",
       "  </thead>\n",
       "  <tbody>\n",
       "    <tr>\n",
       "      <th>0</th>\n",
       "      <td>The Shining (Paperback)</td>\n",
       "      <td>Jack Torrance's new job at the Overlook Hotel ...</td>\n",
       "      <td>Horror,Fiction,Thriller,Classics,Fantasy,Fanta...</td>\n",
       "    </tr>\n",
       "    <tr>\n",
       "      <th>1</th>\n",
       "      <td>It (Paperback)</td>\n",
       "      <td>Welcome to Derry, Maine ...It’s a small city, ...</td>\n",
       "      <td>Horror,Fiction,Thriller,Fantasy,Audiobook,Clas...</td>\n",
       "    </tr>\n",
       "    <tr>\n",
       "      <th>2</th>\n",
       "      <td>Dracula (Paperback)</td>\n",
       "      <td>You can find an alternative cover edition for ...</td>\n",
       "      <td>Classics,Horror,Fiction,Fantasy,Paranormal,Got...</td>\n",
       "    </tr>\n",
       "    <tr>\n",
       "      <th>3</th>\n",
       "      <td>Carrie (Mass Market Paperback)</td>\n",
       "      <td>A modern classic, Carrie introduced a distinct...</td>\n",
       "      <td>Horror,Fiction,Thriller,Fantasy,Fantasy,Classi...</td>\n",
       "    </tr>\n",
       "    <tr>\n",
       "      <th>4</th>\n",
       "      <td>Pet Sematary (Kindle Edition)</td>\n",
       "      <td>'This is an alternate Cover Edition for ASIN: ...</td>\n",
       "      <td>Horror,Fiction,Thriller,Fantasy,Audiobook,Fant...</td>\n",
       "    </tr>\n",
       "  </tbody>\n",
       "</table>\n",
       "</div>"
      ],
      "text/plain": [
       "                            Title  \\\n",
       "0         The Shining (Paperback)   \n",
       "1                  It (Paperback)   \n",
       "2             Dracula (Paperback)   \n",
       "3  Carrie (Mass Market Paperback)   \n",
       "4   Pet Sematary (Kindle Edition)   \n",
       "\n",
       "                                         Description  \\\n",
       "0  Jack Torrance's new job at the Overlook Hotel ...   \n",
       "1  Welcome to Derry, Maine ...It’s a small city, ...   \n",
       "2  You can find an alternative cover edition for ...   \n",
       "3  A modern classic, Carrie introduced a distinct...   \n",
       "4  'This is an alternate Cover Edition for ASIN: ...   \n",
       "\n",
       "                                              Genres  \n",
       "0  Horror,Fiction,Thriller,Classics,Fantasy,Fanta...  \n",
       "1  Horror,Fiction,Thriller,Fantasy,Audiobook,Clas...  \n",
       "2  Classics,Horror,Fiction,Fantasy,Paranormal,Got...  \n",
       "3  Horror,Fiction,Thriller,Fantasy,Fantasy,Classi...  \n",
       "4  Horror,Fiction,Thriller,Fantasy,Audiobook,Fant...  "
      ]
     },
     "execution_count": 6,
     "metadata": {},
     "output_type": "execute_result"
    }
   ],
   "source": [
    "data = df[['Title','Description','Genres']]\n",
    "data.head()"
   ]
  },
  {
   "cell_type": "code",
   "execution_count": 12,
   "metadata": {},
   "outputs": [
    {
     "name": "stderr",
     "output_type": "stream",
     "text": [
      "Downloading: 100%|██████████| 690/690 [00:00<00:00, 691kB/s]\n",
      "Downloading: 100%|██████████| 190/190 [00:00<00:00, 190kB/s]\n",
      "Downloading: 100%|██████████| 3.99k/3.99k [00:00<00:00, 3.99MB/s]\n",
      "Downloading: 100%|██████████| 550/550 [00:00<00:00, 542kB/s]\n",
      "Downloading: 100%|██████████| 122/122 [00:00<00:00, 115kB/s]\n",
      "Downloading: 100%|██████████| 265M/265M [23:05<00:00, 192kB/s]    \n",
      "Downloading: 100%|██████████| 53.0/53.0 [00:00<00:00, 51.0kB/s]\n",
      "Downloading: 100%|██████████| 112/112 [00:00<00:00, 109kB/s]\n",
      "Downloading: 100%|██████████| 466k/466k [00:02<00:00, 199kB/s]  \n",
      "Downloading: 100%|██████████| 450/450 [00:00<00:00, 450kB/s]\n",
      "Downloading: 100%|██████████| 232k/232k [00:01<00:00, 116kB/s]  \n",
      "Downloading: 100%|██████████| 229/229 [00:00<00:00, 115kB/s]\n",
      "Batches: 100%|██████████| 40/40 [00:53<00:00,  1.33s/it]\n"
     ]
    }
   ],
   "source": [
    "text_data = X\n",
    "model = SentenceTransformer('distilbert-base-nli-mean-tokens')\n",
    "embeddings = model.encode(text_data, show_progress_bar=True)"
   ]
  },
  {
   "cell_type": "code",
   "execution_count": 14,
   "metadata": {},
   "outputs": [],
   "source": [
    "embed_data = embeddings"
   ]
  },
  {
   "cell_type": "code",
   "execution_count": 16,
   "metadata": {},
   "outputs": [],
   "source": [
    "cos_sim_data = pd.DataFrame(cosine_similarity(embed_data))\n",
    "def give_recommendations(index,print_recommendation = False,print_recommendation_plots= False,print_genres =False):\n",
    "  index_recomm =cos_sim_data.loc[index].sort_values(ascending=False).index.tolist()[1:6]\n",
    "  books_recomm =  data['Title'].loc[index_recomm].values\n",
    "  result = {'Books':books_recomm,'Index':index_recomm}\n",
    "  if print_recommendation==True:\n",
    "    print('The read book is this one: %s \\n'%(data['Title'].loc[index]))\n",
    "    k=1\n",
    "    for book in books_recomm:\n",
    "      print('The number %i recommended book is this one: %s \\n'%(k,book))\n",
    "  if print_recommendation_plots==True:\n",
    "    print('The plot of the watched book is this one:\\n %s \\n'%(data['Description'].loc[index]))\n",
    "    k=1\n",
    "    for q in range(len(books_recomm)):\n",
    "      plot_q = data['Description'].loc[index_recomm[q]]\n",
    "      print('The plot of the number %i recommended book is this one:\\n %s \\n'%(k,plot_q))\n",
    "      k=k+1\n",
    "  if print_genres==True:\n",
    "    print('The genres of the read book is this one:\\n %s \\n'%(data['Genres'].loc[index]))\n",
    "    k=1\n",
    "    for q in range(len(books_recomm)):\n",
    "      plot_q = data['Genres'].loc[index_recomm[q]]\n",
    "      print('The plot of the number %i recommended book is this one:\\n %s \\n'%(k,plot_q))\n",
    "      k=k+1\n",
    "  return result"
   ]
  },
  {
   "cell_type": "code",
   "execution_count": 21,
   "metadata": {},
   "outputs": [
    {
     "name": "stdout",
     "output_type": "stream",
     "text": [
      "The read book is this one: It (Paperback) \n",
      "\n",
      "The number 1 recommended book is this one: The Ghost Tree (Paperback) \n",
      "\n",
      "The number 1 recommended book is this one: Seed (ebook) \n",
      "\n",
      "The number 1 recommended book is this one: Black Mouth (Paperback) \n",
      "\n",
      "The number 1 recommended book is this one: Storm of the Century (Paperback) \n",
      "\n",
      "The number 1 recommended book is this one: The Pallbearers Club (Hardcover) \n",
      "\n"
     ]
    },
    {
     "data": {
      "text/plain": [
       "{'Books': array(['The Ghost Tree (Paperback)', 'Seed (ebook)',\n",
       "        'Black Mouth (Paperback)', 'Storm of the Century (Paperback)',\n",
       "        'The Pallbearers Club (Hardcover)'], dtype=object),\n",
       " 'Index': [624, 337, 1158, 569, 528]}"
      ]
     },
     "execution_count": 21,
     "metadata": {},
     "output_type": "execute_result"
    }
   ],
   "source": [
    "give_recommendations(5,True)"
   ]
  },
  {
   "cell_type": "code",
   "execution_count": 22,
   "metadata": {},
   "outputs": [
    {
     "name": "stdout",
     "output_type": "stream",
     "text": [
      "The plot of the watched book is this one:\n",
      " Welcome to Derry, Maine ...It’s a small city, a place as hauntingly familiar as your own hometown. Only in Derry the haunting is real ...They were seven teenagers when they first stumbled upon the horror. Now they are grown-up men and women who have gone out into the big world to gain success and happiness. But none of them can withstand the force that has drawn them back to Derry to face the nightmare without an end, and the evil without a name. \n",
      "\n",
      "The plot of the number 1 recommended book is this one:\n",
      " When people go missing in the sleepy town of Smith's Hollow, the only clue to their fate comes when a teenager starts having terrifying visions, in a chilling horror novel from national bestselling author Christina Henry.When the bodies of two girls are found torn apart in the town of Smiths Hollow, Lauren is surprised, but she also expects that the police won't find the killer. After all, the year before her father's body was found with his heart missing, and since then everyone has moved on. Even her best friend, Miranda, has become more interested in boys than in spending time at the old ghost tree, the way they used to when they were kids.So when Lauren has a vision of a monster dragging the remains of the girls through the woods, she knows she can't just do nothing. Not like the rest of her town. But as she draws closer to answers, she realizes that the foundation of her seemingly normal town might be rotten at the center. And that if nobody else stands for the missing, she will. \n",
      "\n",
      "The plot of the number 2 recommended book is this one:\n",
      " Fans of Stephen King, Jack Kilborn, and Blake Crouch… prepare to meet the Devil.In the vine-twisted swamps of Louisiana, the shadows have teeth.Jack Winter has spent his entire life running from something no one else can see. His childhood is his darkest secret, but after a near fatal accident along a deserted road, the darkness he was sure he’d escaped rears its ugly head… and smiles.But this time, he isn’t the only one who sees the soulless eyes of his past. This time, his six-year-old daughter Charlie leans into his ear and whispers: Daddy, I saw it too.And then she begins to change.Faced with reliving the nightmares of his childhood, Jack watches his daughter spiral into the shadows that had nearly consumed him twenty years before. But Charlie isn’t the only one who’s changing. Jack never outran the darkness. It’s been with him all along. And it’s hungrier than ever. A new breed of dark fiction: the subtlety of Seed will haunt you, and the end will wickedly satisfy. \n",
      "\n",
      "The plot of the number 3 recommended book is this one:\n",
      " Perfect for fans of Stephen King’s IT, a group of friends return to their hometown to confront a nightmare they first stumbled on as teenagers in this mesmerizing odyssey of terror.For nearly two decades, Jamie Warren has been running from darkness. He's haunted by a traumatic childhood and the guilt at having disappeared from his disabled brother's life. But then a series of unusual events reunites him with his estranged brother and their childhood friends, and none of them can deny the sense of fate that has seemingly drawn them back together.Nor can they deny the memories of that summer, so long ago – the strange magic taught to them by an even stranger man, and the terrible act that has followed them all into adulthood. In the light of new danger, they must confront their past by facing their futures, and hunting down a man who may very well be a monster. \n",
      "\n",
      "The plot of the number 4 recommended book is this one:\n",
      " For the first time in Stephen King's remarkable publishing history, the master storyteller presents an all-new, original tale written expressly for the television screen.They're calling it the Storm of the Century, and it's coming hard. The residents of Little Tall Island have seen their share of nasty Maine Nor'easters, but this one is different. Not only is it packing hurricane-force winds and up to five feet of snow, it's bringing something worse. Something even the islanders have never seen before. Something no one wants to see.Just as the first flakes begin to fall, Martha Clarendon, one of Little Tall Island's oldest residents, suffers an unspeakably violent death. While her blood dries, Andre Linoge, the man responsible sits calmly in Martha's easy chair holding his cane topped with a silver wolf's head...waiting.Linoge knows the townsfolk will come to arrest him. He will let them. For he has come to the island for one reason. And when he meets Constable Mike Anderson, his beautiful wife and child, and the rest of Little Tall's tight-knit community, this stranger will make one simple propoisition to them all: \"If you give me what I want, I'll go away.\" \n",
      "\n",
      "The plot of the number 5 recommended book is this one:\n",
      " A cleverly voiced psychological thriller about an unforgettable—and unsettling—friendship, with blood-chilling twists, crackling wit, and a thrumming pulse in its veins, from the nationally bestselling author of The Cabin at the End of the World and Survivor Song.What if the coolest girl you've ever met decided to be your friend?Art Barbara was so not cool. He was a seventeen-year-old high school loner in the late 1980s who listened to hair metal, had to wear a monstrous back-brace at night for his scoliosis, and started an extracurricular club for volunteer pallbearers at poorly attended funerals. But his new friend thought the Pallbearers Club was cool. And she brought along her Polaroid camera to take pictures of the corpses.Okay, that part was a little weird.So was her obsessive knowledge of a notorious bit of New England folklore that involved digging up the dead. And there were other strange things—terrifying things—that happened when she was around, usually at night. But she was his friend, so it was okay, right?Decades later, Art tries to make sense of it all by writing The Pallbearers Club: A Memoir. But somehow this friend got her hands on the manuscript and, well, she has some issues with it. And now she's making cuts.Seamlessly blurring the lines between fiction and memory, the supernatural and the mundane, The Pallbearers Club is an immersive, suspenseful portrait of an unusual and disconcerting relationship. \n",
      "\n"
     ]
    },
    {
     "data": {
      "text/plain": [
       "{'Books': array(['The Ghost Tree (Paperback)', 'Seed (ebook)',\n",
       "        'Black Mouth (Paperback)', 'Storm of the Century (Paperback)',\n",
       "        'The Pallbearers Club (Hardcover)'], dtype=object),\n",
       " 'Index': [624, 337, 1158, 569, 528]}"
      ]
     },
     "execution_count": 22,
     "metadata": {},
     "output_type": "execute_result"
    }
   ],
   "source": [
    "give_recommendations(5,False,True)"
   ]
  },
  {
   "cell_type": "code",
   "execution_count": 23,
   "metadata": {},
   "outputs": [
    {
     "name": "stdout",
     "output_type": "stream",
     "text": [
      "The genres of the read book is this one:\n",
      " Horror,Fiction,Thriller,Fantasy,Audiobook,Classics,Mystery,Adult,Fantasy,Fantasy \n",
      "\n",
      "The plot of the number 1 recommended book is this one:\n",
      " Horror,Mystery,Fantasy,Fiction,Young Adult,Fantasy,Thriller,Paranormal,Fantasy,Adult \n",
      "\n",
      "The plot of the number 2 recommended book is this one:\n",
      " Horror,Fiction,Fantasy,Fantasy,Thriller,Audiobook,Fantasy,Paranormal,Mystery,Thriller \n",
      "\n",
      "The plot of the number 3 recommended book is this one:\n",
      " Horror,Fiction,Fantasy,Thriller,Fantasy,Audiobook,Mystery,Adult,Young Adult,Fantasy \n",
      "\n",
      "The plot of the number 4 recommended book is this one:\n",
      " Horror,Fiction,Thriller,Fantasy,Plays,Suspense,Drama,Fantasy,Mystery,Fantasy \n",
      "\n",
      "The plot of the number 5 recommended book is this one:\n",
      " Horror,Fiction,Thriller,Mystery,Adult,Thriller,Audiobook,Paranormal,Fantasy,Fantasy \n",
      "\n"
     ]
    },
    {
     "data": {
      "text/plain": [
       "{'Books': array(['The Ghost Tree (Paperback)', 'Seed (ebook)',\n",
       "        'Black Mouth (Paperback)', 'Storm of the Century (Paperback)',\n",
       "        'The Pallbearers Club (Hardcover)'], dtype=object),\n",
       " 'Index': [624, 337, 1158, 569, 528]}"
      ]
     },
     "execution_count": 23,
     "metadata": {},
     "output_type": "execute_result"
    }
   ],
   "source": [
    "give_recommendations(5,False,False, True)"
   ]
  }
 ],
 "metadata": {
  "kernelspec": {
   "display_name": "Python 3",
   "language": "python",
   "name": "python3"
  },
  "language_info": {
   "codemirror_mode": {
    "name": "ipython",
    "version": 3
   },
   "file_extension": ".py",
   "mimetype": "text/x-python",
   "name": "python",
   "nbconvert_exporter": "python",
   "pygments_lexer": "ipython3",
   "version": "3.10.2"
  },
  "orig_nbformat": 4,
  "vscode": {
   "interpreter": {
    "hash": "b0ea0398bfc6d7f45abc68f44a548315348cf9ab79812a4dc9172071276c2fec"
   }
  }
 },
 "nbformat": 4,
 "nbformat_minor": 2
}
