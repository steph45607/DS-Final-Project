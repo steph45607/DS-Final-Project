{
 "cells": [
  {
   "cell_type": "code",
   "execution_count": 1,
   "metadata": {},
   "outputs": [
    {
     "name": "stderr",
     "output_type": "stream",
     "text": [
      "c:\\Users\\10\\AppData\\Local\\Programs\\Python\\Python310\\lib\\site-packages\\tqdm\\auto.py:22: TqdmWarning: IProgress not found. Please update jupyter and ipywidgets. See https://ipywidgets.readthedocs.io/en/stable/user_install.html\n",
      "  from .autonotebook import tqdm as notebook_tqdm\n"
     ]
    }
   ],
   "source": [
    "import matplotlib.pyplot as plt\n",
    "import numpy as np\n",
    "from sentence_transformers import SentenceTransformer\n",
    "import pandas as pd\n",
    "import seaborn as sns\n",
    "from sklearn.feature_extraction.text import CountVectorizer\n",
    "from sklearn.cluster import KMeans\n",
    "from sklearn.metrics.pairwise import cosine_similarity\n",
    "from sklearn.decomposition import PCA\n",
    "\n",
    "plt.style.use('ggplot')\n",
    "plt.rcParams['font.family'] = 'sans-serif' \n",
    "plt.rcParams['font.serif'] = 'Ubuntu' \n",
    "plt.rcParams['font.monospace'] = 'Ubuntu Mono' \n",
    "plt.rcParams['font.size'] = 14 \n",
    "plt.rcParams['axes.labelsize'] = 12 \n",
    "plt.rcParams['axes.labelweight'] = 'bold' \n",
    "plt.rcParams['axes.titlesize'] = 12 \n",
    "plt.rcParams['xtick.labelsize'] = 12 \n",
    "plt.rcParams['ytick.labelsize'] = 12 \n",
    "plt.rcParams['legend.fontsize'] = 12 \n",
    "plt.rcParams['figure.titlesize'] = 12 \n",
    "plt.rcParams['image.cmap'] = 'jet' \n",
    "plt.rcParams['image.interpolation'] = 'none' \n",
    "plt.rcParams['figure.figsize'] = (12, 10) \n",
    "plt.rcParams['axes.grid']=True\n",
    "plt.rcParams['lines.linewidth'] = 2 \n",
    "plt.rcParams['lines.markersize'] = 8\n",
    "colors = ['xkcd:pale orange', 'xkcd:sea blue', 'xkcd:pale red', 'xkcd:sage green', 'xkcd:terra cotta', 'xkcd:dull purple', 'xkcd:teal', 'xkcd: goldenrod', 'xkcd:cadet blue',\n",
    "'xkcd:scarlet']"
   ]
  },
  {
   "cell_type": "code",
   "execution_count": 2,
   "metadata": {},
   "outputs": [
    {
     "data": {
      "text/html": [
       "<div>\n",
       "<style scoped>\n",
       "    .dataframe tbody tr th:only-of-type {\n",
       "        vertical-align: middle;\n",
       "    }\n",
       "\n",
       "    .dataframe tbody tr th {\n",
       "        vertical-align: top;\n",
       "    }\n",
       "\n",
       "    .dataframe thead th {\n",
       "        text-align: right;\n",
       "    }\n",
       "</style>\n",
       "<table border=\"1\" class=\"dataframe\">\n",
       "  <thead>\n",
       "    <tr style=\"text-align: right;\">\n",
       "      <th></th>\n",
       "      <th>Unnamed: 0</th>\n",
       "      <th>Title</th>\n",
       "      <th>Author</th>\n",
       "      <th>Year</th>\n",
       "      <th>Rating</th>\n",
       "      <th>Raters</th>\n",
       "      <th>Genres</th>\n",
       "      <th>Description</th>\n",
       "    </tr>\n",
       "  </thead>\n",
       "  <tbody>\n",
       "    <tr>\n",
       "      <th>0</th>\n",
       "      <td>0</td>\n",
       "      <td>The Shining (Paperback)</td>\n",
       "      <td>Stephen King</td>\n",
       "      <td>1977</td>\n",
       "      <td>4.26</td>\n",
       "      <td>1342128</td>\n",
       "      <td>Horror,Fiction,Thriller,Classics,Fantasy,Fanta...</td>\n",
       "      <td>Jack Torrance's new job at the Overlook Hotel ...</td>\n",
       "    </tr>\n",
       "    <tr>\n",
       "      <th>1</th>\n",
       "      <td>1</td>\n",
       "      <td>It (Paperback)</td>\n",
       "      <td>Stephen King</td>\n",
       "      <td>1984</td>\n",
       "      <td>4.25</td>\n",
       "      <td>988428</td>\n",
       "      <td>Horror,Fiction,Thriller,Fantasy,Audiobook,Clas...</td>\n",
       "      <td>Welcome to Derry, Maine ...It’s a small city, ...</td>\n",
       "    </tr>\n",
       "    <tr>\n",
       "      <th>2</th>\n",
       "      <td>2</td>\n",
       "      <td>Dracula (Paperback)</td>\n",
       "      <td>Bram Stoker</td>\n",
       "      <td>1897</td>\n",
       "      <td>4.01</td>\n",
       "      <td>1134432</td>\n",
       "      <td>Classics,Horror,Fiction,Fantasy,Paranormal,Got...</td>\n",
       "      <td>You can find an alternative cover edition for ...</td>\n",
       "    </tr>\n",
       "    <tr>\n",
       "      <th>3</th>\n",
       "      <td>3</td>\n",
       "      <td>Carrie (Mass Market Paperback)</td>\n",
       "      <td>Stephen King</td>\n",
       "      <td>1974</td>\n",
       "      <td>3.98</td>\n",
       "      <td>636575</td>\n",
       "      <td>Horror,Fiction,Thriller,Fantasy,Fantasy,Classi...</td>\n",
       "      <td>A modern classic, Carrie introduced a distinct...</td>\n",
       "    </tr>\n",
       "    <tr>\n",
       "      <th>4</th>\n",
       "      <td>4</td>\n",
       "      <td>Pet Sematary (Kindle Edition)</td>\n",
       "      <td>Stephen King</td>\n",
       "      <td>1983</td>\n",
       "      <td>4.04</td>\n",
       "      <td>521288</td>\n",
       "      <td>Horror,Fiction,Thriller,Fantasy,Audiobook,Fant...</td>\n",
       "      <td>'This is an alternate Cover Edition for ASIN: ...</td>\n",
       "    </tr>\n",
       "  </tbody>\n",
       "</table>\n",
       "</div>"
      ],
      "text/plain": [
       "   Unnamed: 0                           Title        Author  Year  Rating  \\\n",
       "0           0         The Shining (Paperback)  Stephen King  1977    4.26   \n",
       "1           1                  It (Paperback)  Stephen King  1984    4.25   \n",
       "2           2             Dracula (Paperback)   Bram Stoker  1897    4.01   \n",
       "3           3  Carrie (Mass Market Paperback)  Stephen King  1974    3.98   \n",
       "4           4   Pet Sematary (Kindle Edition)  Stephen King  1983    4.04   \n",
       "\n",
       "    Raters                                             Genres  \\\n",
       "0  1342128  Horror,Fiction,Thriller,Classics,Fantasy,Fanta...   \n",
       "1   988428  Horror,Fiction,Thriller,Fantasy,Audiobook,Clas...   \n",
       "2  1134432  Classics,Horror,Fiction,Fantasy,Paranormal,Got...   \n",
       "3   636575  Horror,Fiction,Thriller,Fantasy,Fantasy,Classi...   \n",
       "4   521288  Horror,Fiction,Thriller,Fantasy,Audiobook,Fant...   \n",
       "\n",
       "                                         Description  \n",
       "0  Jack Torrance's new job at the Overlook Hotel ...  \n",
       "1  Welcome to Derry, Maine ...It’s a small city, ...  \n",
       "2  You can find an alternative cover edition for ...  \n",
       "3  A modern classic, Carrie introduced a distinct...  \n",
       "4  'This is an alternate Cover Edition for ASIN: ...  "
      ]
     },
     "execution_count": 2,
     "metadata": {},
     "output_type": "execute_result"
    }
   ],
   "source": [
    "df = pd.read_csv('Cleaned/HorrorCleanedAndJoined.csv')\n",
    "df.head()"
   ]
  },
  {
   "cell_type": "code",
   "execution_count": 3,
   "metadata": {},
   "outputs": [
    {
     "data": {
      "text/html": [
       "<div>\n",
       "<style scoped>\n",
       "    .dataframe tbody tr th:only-of-type {\n",
       "        vertical-align: middle;\n",
       "    }\n",
       "\n",
       "    .dataframe tbody tr th {\n",
       "        vertical-align: top;\n",
       "    }\n",
       "\n",
       "    .dataframe thead th {\n",
       "        text-align: right;\n",
       "    }\n",
       "</style>\n",
       "<table border=\"1\" class=\"dataframe\">\n",
       "  <thead>\n",
       "    <tr style=\"text-align: right;\">\n",
       "      <th></th>\n",
       "      <th>Title</th>\n",
       "      <th>Author</th>\n",
       "      <th>Year</th>\n",
       "      <th>Rating</th>\n",
       "      <th>Raters</th>\n",
       "      <th>Genres</th>\n",
       "      <th>Description</th>\n",
       "    </tr>\n",
       "  </thead>\n",
       "  <tbody>\n",
       "    <tr>\n",
       "      <th>0</th>\n",
       "      <td>The Shining (Paperback)</td>\n",
       "      <td>Stephen King</td>\n",
       "      <td>1977</td>\n",
       "      <td>4.26</td>\n",
       "      <td>1342128</td>\n",
       "      <td>Horror,Fiction,Thriller,Classics,Fantasy,Fanta...</td>\n",
       "      <td>Jack Torrance's new job at the Overlook Hotel ...</td>\n",
       "    </tr>\n",
       "    <tr>\n",
       "      <th>1</th>\n",
       "      <td>It (Paperback)</td>\n",
       "      <td>Stephen King</td>\n",
       "      <td>1984</td>\n",
       "      <td>4.25</td>\n",
       "      <td>988428</td>\n",
       "      <td>Horror,Fiction,Thriller,Fantasy,Audiobook,Clas...</td>\n",
       "      <td>Welcome to Derry, Maine ...It’s a small city, ...</td>\n",
       "    </tr>\n",
       "    <tr>\n",
       "      <th>2</th>\n",
       "      <td>Dracula (Paperback)</td>\n",
       "      <td>Bram Stoker</td>\n",
       "      <td>1897</td>\n",
       "      <td>4.01</td>\n",
       "      <td>1134432</td>\n",
       "      <td>Classics,Horror,Fiction,Fantasy,Paranormal,Got...</td>\n",
       "      <td>You can find an alternative cover edition for ...</td>\n",
       "    </tr>\n",
       "    <tr>\n",
       "      <th>3</th>\n",
       "      <td>Carrie (Mass Market Paperback)</td>\n",
       "      <td>Stephen King</td>\n",
       "      <td>1974</td>\n",
       "      <td>3.98</td>\n",
       "      <td>636575</td>\n",
       "      <td>Horror,Fiction,Thriller,Fantasy,Fantasy,Classi...</td>\n",
       "      <td>A modern classic, Carrie introduced a distinct...</td>\n",
       "    </tr>\n",
       "    <tr>\n",
       "      <th>4</th>\n",
       "      <td>Pet Sematary (Kindle Edition)</td>\n",
       "      <td>Stephen King</td>\n",
       "      <td>1983</td>\n",
       "      <td>4.04</td>\n",
       "      <td>521288</td>\n",
       "      <td>Horror,Fiction,Thriller,Fantasy,Audiobook,Fant...</td>\n",
       "      <td>'This is an alternate Cover Edition for ASIN: ...</td>\n",
       "    </tr>\n",
       "  </tbody>\n",
       "</table>\n",
       "</div>"
      ],
      "text/plain": [
       "                            Title        Author  Year  Rating   Raters  \\\n",
       "0         The Shining (Paperback)  Stephen King  1977    4.26  1342128   \n",
       "1                  It (Paperback)  Stephen King  1984    4.25   988428   \n",
       "2             Dracula (Paperback)   Bram Stoker  1897    4.01  1134432   \n",
       "3  Carrie (Mass Market Paperback)  Stephen King  1974    3.98   636575   \n",
       "4   Pet Sematary (Kindle Edition)  Stephen King  1983    4.04   521288   \n",
       "\n",
       "                                              Genres  \\\n",
       "0  Horror,Fiction,Thriller,Classics,Fantasy,Fanta...   \n",
       "1  Horror,Fiction,Thriller,Fantasy,Audiobook,Clas...   \n",
       "2  Classics,Horror,Fiction,Fantasy,Paranormal,Got...   \n",
       "3  Horror,Fiction,Thriller,Fantasy,Fantasy,Classi...   \n",
       "4  Horror,Fiction,Thriller,Fantasy,Audiobook,Fant...   \n",
       "\n",
       "                                         Description  \n",
       "0  Jack Torrance's new job at the Overlook Hotel ...  \n",
       "1  Welcome to Derry, Maine ...It’s a small city, ...  \n",
       "2  You can find an alternative cover edition for ...  \n",
       "3  A modern classic, Carrie introduced a distinct...  \n",
       "4  'This is an alternate Cover Edition for ASIN: ...  "
      ]
     },
     "execution_count": 3,
     "metadata": {},
     "output_type": "execute_result"
    }
   ],
   "source": [
    "df = df.drop(\"Unnamed: 0\", axis = 1)\n",
    "df.head()"
   ]
  },
  {
   "cell_type": "code",
   "execution_count": 4,
   "metadata": {},
   "outputs": [],
   "source": [
    "X = np.array(df.Description)"
   ]
  },
  {
   "cell_type": "code",
   "execution_count": 5,
   "metadata": {},
   "outputs": [
    {
     "data": {
      "text/html": [
       "<div>\n",
       "<style scoped>\n",
       "    .dataframe tbody tr th:only-of-type {\n",
       "        vertical-align: middle;\n",
       "    }\n",
       "\n",
       "    .dataframe tbody tr th {\n",
       "        vertical-align: top;\n",
       "    }\n",
       "\n",
       "    .dataframe thead th {\n",
       "        text-align: right;\n",
       "    }\n",
       "</style>\n",
       "<table border=\"1\" class=\"dataframe\">\n",
       "  <thead>\n",
       "    <tr style=\"text-align: right;\">\n",
       "      <th></th>\n",
       "      <th>Title</th>\n",
       "      <th>Description</th>\n",
       "      <th>Genres</th>\n",
       "    </tr>\n",
       "  </thead>\n",
       "  <tbody>\n",
       "    <tr>\n",
       "      <th>0</th>\n",
       "      <td>The Shining (Paperback)</td>\n",
       "      <td>Jack Torrance's new job at the Overlook Hotel ...</td>\n",
       "      <td>Horror,Fiction,Thriller,Classics,Fantasy,Fanta...</td>\n",
       "    </tr>\n",
       "    <tr>\n",
       "      <th>1</th>\n",
       "      <td>It (Paperback)</td>\n",
       "      <td>Welcome to Derry, Maine ...It’s a small city, ...</td>\n",
       "      <td>Horror,Fiction,Thriller,Fantasy,Audiobook,Clas...</td>\n",
       "    </tr>\n",
       "    <tr>\n",
       "      <th>2</th>\n",
       "      <td>Dracula (Paperback)</td>\n",
       "      <td>You can find an alternative cover edition for ...</td>\n",
       "      <td>Classics,Horror,Fiction,Fantasy,Paranormal,Got...</td>\n",
       "    </tr>\n",
       "    <tr>\n",
       "      <th>3</th>\n",
       "      <td>Carrie (Mass Market Paperback)</td>\n",
       "      <td>A modern classic, Carrie introduced a distinct...</td>\n",
       "      <td>Horror,Fiction,Thriller,Fantasy,Fantasy,Classi...</td>\n",
       "    </tr>\n",
       "    <tr>\n",
       "      <th>4</th>\n",
       "      <td>Pet Sematary (Kindle Edition)</td>\n",
       "      <td>'This is an alternate Cover Edition for ASIN: ...</td>\n",
       "      <td>Horror,Fiction,Thriller,Fantasy,Audiobook,Fant...</td>\n",
       "    </tr>\n",
       "  </tbody>\n",
       "</table>\n",
       "</div>"
      ],
      "text/plain": [
       "                            Title  \\\n",
       "0         The Shining (Paperback)   \n",
       "1                  It (Paperback)   \n",
       "2             Dracula (Paperback)   \n",
       "3  Carrie (Mass Market Paperback)   \n",
       "4   Pet Sematary (Kindle Edition)   \n",
       "\n",
       "                                         Description  \\\n",
       "0  Jack Torrance's new job at the Overlook Hotel ...   \n",
       "1  Welcome to Derry, Maine ...It’s a small city, ...   \n",
       "2  You can find an alternative cover edition for ...   \n",
       "3  A modern classic, Carrie introduced a distinct...   \n",
       "4  'This is an alternate Cover Edition for ASIN: ...   \n",
       "\n",
       "                                              Genres  \n",
       "0  Horror,Fiction,Thriller,Classics,Fantasy,Fanta...  \n",
       "1  Horror,Fiction,Thriller,Fantasy,Audiobook,Clas...  \n",
       "2  Classics,Horror,Fiction,Fantasy,Paranormal,Got...  \n",
       "3  Horror,Fiction,Thriller,Fantasy,Fantasy,Classi...  \n",
       "4  Horror,Fiction,Thriller,Fantasy,Audiobook,Fant...  "
      ]
     },
     "execution_count": 5,
     "metadata": {},
     "output_type": "execute_result"
    }
   ],
   "source": [
    "data = df[['Title','Description','Genres']]\n",
    "data.head()"
   ]
  },
  {
   "cell_type": "code",
   "execution_count": 6,
   "metadata": {},
   "outputs": [
    {
     "name": "stderr",
     "output_type": "stream",
     "text": [
      "Batches: 100%|██████████| 40/40 [00:54<00:00,  1.35s/it]\n"
     ]
    }
   ],
   "source": [
    "text_data = X\n",
    "model = SentenceTransformer('distilbert-base-nli-mean-tokens')\n",
    "embeddings = model.encode(text_data, show_progress_bar=True)"
   ]
  },
  {
   "cell_type": "code",
   "execution_count": 7,
   "metadata": {},
   "outputs": [],
   "source": [
    "embed_data = embeddings"
   ]
  },
  {
   "cell_type": "code",
   "execution_count": 8,
   "metadata": {},
   "outputs": [],
   "source": [
    "cos_sim_data = pd.DataFrame(cosine_similarity(embed_data))\n",
    "def give_recommendations(index,print_recommendation = False,print_recommendation_plots= False,print_genres =False):\n",
    "  index_recomm =cos_sim_data.loc[index].sort_values(ascending=False).index.tolist()[1:6]\n",
    "  books_recomm =  data['Title'].loc[index_recomm].values\n",
    "  result = {'Books':books_recomm,'Index':index_recomm}\n",
    "  if print_recommendation==True:\n",
    "    print('The read book is this one: %s \\n'%(data['Title'].loc[index]))\n",
    "    k=1\n",
    "    for book in books_recomm:\n",
    "      print('The number %i recommended book is this one: %s \\n'%(k,book))\n",
    "  if print_recommendation_plots==True:\n",
    "    print('The plot of the watched book is this one:\\n %s \\n'%(data['Description'].loc[index]))\n",
    "    k=1\n",
    "    for q in range(len(books_recomm)):\n",
    "      plot_q = data['Description'].loc[index_recomm[q]]\n",
    "      print('The plot of the number %i recommended book is this one:\\n %s \\n'%(k,plot_q))\n",
    "      k=k+1\n",
    "  if print_genres==True:\n",
    "    print('The genres of the read book is this one:\\n %s \\n'%(data['Genres'].loc[index]))\n",
    "    k=1\n",
    "    for q in range(len(books_recomm)):\n",
    "      plot_q = data['Genres'].loc[index_recomm[q]]\n",
    "      print('The plot of the number %i recommended book is this one:\\n %s \\n'%(k,plot_q))\n",
    "      k=k+1\n",
    "  return result"
   ]
  },
  {
   "cell_type": "code",
   "execution_count": 9,
   "metadata": {},
   "outputs": [
    {
     "name": "stdout",
     "output_type": "stream",
     "text": [
      "The read book is this one: Frankenstein: The 1818 Text (Paperback) \n",
      "\n",
      "The number 1 recommended book is this one: The Complete Fiction (Leather Bound) \n",
      "\n",
      "The number 1 recommended book is this one: The Imago Sequence and Other Stories (Hardcover) \n",
      "\n",
      "The number 1 recommended book is this one: The Thing on the Doorstep and Other Weird Stories (Paperback) \n",
      "\n",
      "The number 1 recommended book is this one: City Infernal (City Infernal, #1) \n",
      "\n",
      "The number 1 recommended book is this one: The Lighthouse Witches (Paperback) \n",
      "\n"
     ]
    },
    {
     "data": {
      "text/plain": [
       "{'Books': array(['The Complete Fiction (Leather Bound)',\n",
       "        'The Imago Sequence and Other Stories (Hardcover)',\n",
       "        'The Thing on the Doorstep and Other Weird Stories (Paperback)',\n",
       "        'City Infernal (City Infernal, #1)',\n",
       "        'The Lighthouse Witches (Paperback)'], dtype=object),\n",
       " 'Index': [388, 525, 657, 1139, 841]}"
      ]
     },
     "execution_count": 9,
     "metadata": {},
     "output_type": "execute_result"
    }
   ],
   "source": [
    "give_recommendations(5,True)"
   ]
  },
  {
   "cell_type": "code",
   "execution_count": 10,
   "metadata": {},
   "outputs": [
    {
     "name": "stdout",
     "output_type": "stream",
     "text": [
      "The plot of the watched book is this one:\n",
      " This is a previously-published edition of ISBN 9780143131847.Mary Shelley's seminal novel of the scientist whose creation becomes a monsterThis edition is the original 1818 text, which preserves the hard-hitting and politically charged aspects of Shelley's original writing, as well as her unflinching wit and strong female voice. This edition also includes a new introduction and suggestions for further reading by author and Shelley expert Charlotte Gordon, literary excerpts and reviews selected by Gordon and a chronology and essay by preeminent Shelley scholar Charles E. Robinson. \n",
      "\n",
      "The plot of the number 1 recommended book is this one:\n",
      " Another excellent edition in the Knickerbocker Classic series, The Complete Fiction of H.P. Lovecraft collects the author's novel, four novellas, and fifty-three short stories. Written between the years 1917 and 1935, this collection features Lovecraft's trademark fantastical creatures and supernatural thrills, as well as many horrific and cautionary science-fiction themes, that have influenced some of today's writers and filmmakers, including Stephen King, Alan Moore, F. Paul Wilson, Guillermo del Toro, and Neil Gaiman. Included in this volume are The Case of Charles Dexter Ward, The Call of Cthulhu, The Dream-Quest of Unknown Kadath, At the Mountains of Madness, The Shadow Over Innsmouth, The Colour out of Space, The Dunwich Horror, and many more hair-raising tales.The Knickerbocker Classics bring together the works of classic authors from around the world in stunning gift editions to be collected and enjoyed. Complete and unabridged, these elegantly designed cloth-bound hardcovers feature a slipcase and ribbon marker, as well as a comprehensive introduction providing the reader with enlightening information on the author's life and works. \n",
      "\n",
      "The plot of the number 2 recommended book is this one:\n",
      " The title story of this collection - a devilishly ironic riff on H. P. Lovecraft's \"Pickman's model\" - was nominated for a World Fantasy Award, while \"Proboscis\" was nominated for an International Horror Guild award and reprinted in The Year's Best Fantasy and Horror 19. In addition to his previously published work, this collection contains an original story. \n",
      "\n",
      "The plot of the number 3 recommended book is this one:\n",
      " A definitive edition of stories by the master of supernatural fictionHoward Phillips Lovecraft's unique contribution to American literature was a melding of traditional supernaturalism (derived chiefly from Edgar Allan Poe) with the genre of science fiction that emerged in the early 1920s. This Penguin Classics edition brings together a dozen of the master's tales-from his early short stories \"Under the Pyramids\" (originally ghostwritten for Harry Houdini) and \"The Music of Erich Zann\" (which Lovecraft ranked second among his own favorites) through his more fully developed works, \"The Dunwich Horror,\" The Case of Charles Dexter Ward, and At the Mountains of Madness.\n",
      "  The Thing on the Doorstep and Other Weird Stories \n",
      "presents the definitive corrected texts of these works, along with Lovecraft critic and biographer S. T. Joshi's illuminating introduction and notes to each story.Contains the following tales:- The Tomb- Beyond the Wall of Sleep- The White Ship- The Temple- The Quest of Iranon- The Music of Erich Zann- Imprisoned with the Pharaohs aka Under the Pyramids- Pickman's Model- The Case of Charles Dexter Ward- The Dunwich Horror- At the Mountains of Madness- The Thing on the Doorstep \n",
      "\n",
      "The plot of the number 4 recommended book is this one:\n",
      " Songs of a Dreamer was Thomas Ligotti’s first collection of supernatural horror stories. When originally published in 1985 by Harry Morris’s Silver Scarab Press, the book was hardly noticed. In 1989, an expanded version appeared that garnered accolades from several quarters. Writing in the Washington Post, the celebrated science fiction and fantasy author Michael Swanwick extolled: “Put this volume on the shelf right between H. P. Lovecraft and Edgar Allan Poe. Where it belongs.”The revisions in the present volume of Songs of a Dead Dreamer have been calculated to make its stories into enhanced incarnations of the originals. This edition is and will remain definitive.For those already familiar with the stories in Songs of a Dead Dreamer, an invitation is extended to return to them in their ultimate state. For those new to the collection, it is submitted to engage them with some of the most extraordinary tales of their kind. In either case, this publication of Songs of a Dead Dreamer offers evidence for why Ligotti has been judged to be among the most important authors in the history of supernatural horror. \n",
      "\n",
      "The plot of the number 5 recommended book is this one:\n",
      " Cold Hand in Mine was first published in the UK in 1975 and in the US in 1977. The story Pages from a Young Girl's Journal won Aickman the World Fantasy Award in 1975. It was originally published in The Magazine of Fantasy & Science Fiction in 1973 before appearing in this collection.Cold Hand in Mine stands as one of Aickman's best collections and contains eight stories that show off his powers as a 'strange story' writer to the full, being more ambiguous than standard ghost stories. Throughout the stories the reader is introduced to a variety of characters, from a man who spends the night in a Hospice to a German aristocrat and a woman who sees an image of her own soul. There is also a nod to the conventional vampire story (Pages from a Young Girl's Journal) but all the stories remain unconventional and inconclusive, which perhaps makes them all the more startling and intriguing.• The Swords • The Real Road to the Church • Niemandswasser • Pages from a Young Girl's Journal• The Hospice • The Same Dog • Meeting Mr. Millar • The Clock Watcher \n",
      "\n"
     ]
    },
    {
     "data": {
      "text/plain": [
       "{'Books': array(['The Complete Fiction (Leather Bound)',\n",
       "        'The Imago Sequence and Other Stories (Hardcover)',\n",
       "        'The Thing on the Doorstep and Other Weird Stories (Paperback)',\n",
       "        'City Infernal (City Infernal, #1)',\n",
       "        'The Lighthouse Witches (Paperback)'], dtype=object),\n",
       " 'Index': [388, 525, 657, 1139, 841]}"
      ]
     },
     "execution_count": 10,
     "metadata": {},
     "output_type": "execute_result"
    }
   ],
   "source": [
    "give_recommendations(5,False,True)"
   ]
  },
  {
   "cell_type": "code",
   "execution_count": 11,
   "metadata": {},
   "outputs": [
    {
     "name": "stdout",
     "output_type": "stream",
     "text": [
      "The genres of the read book is this one:\n",
      " Classics,Fiction,Horror,Science Fiction,Gothic,Fantasy,Academic,Literature,Novels,Academic \n",
      "\n",
      "The plot of the number 1 recommended book is this one:\n",
      " Horror,Fiction,Classics,Fantasy,Short Stories,Science Fiction,Anthologies,Anthologies,Fantasy,Horror \n",
      "\n",
      "The plot of the number 2 recommended book is this one:\n",
      " Horror,Short Stories,Fiction,Fantasy,Fantasy,Horror,Anthologies,Anthologies,Speculative Fiction,Short Stories \n",
      "\n",
      "The plot of the number 3 recommended book is this one:\n",
      " Horror,Short Stories,Fiction,Classics,Fantasy,Science Fiction,Fantasy,Gothic,Horror,Literature \n",
      "\n",
      "The plot of the number 4 recommended book is this one:\n",
      " Horror,Fiction,Fantasy,Horror,Paranormal,Fantasy,Fantasy,Fantasy,Fantasy,Death \n",
      "\n",
      "The plot of the number 5 recommended book is this one:\n",
      " Fantasy,Horror,Mystery,Fiction,Paranormal,Gothic,Thriller,Fantasy,Thriller,Audiobook \n",
      "\n"
     ]
    },
    {
     "data": {
      "text/plain": [
       "{'Books': array(['The Complete Fiction (Leather Bound)',\n",
       "        'The Imago Sequence and Other Stories (Hardcover)',\n",
       "        'The Thing on the Doorstep and Other Weird Stories (Paperback)',\n",
       "        'City Infernal (City Infernal, #1)',\n",
       "        'The Lighthouse Witches (Paperback)'], dtype=object),\n",
       " 'Index': [388, 525, 657, 1139, 841]}"
      ]
     },
     "execution_count": 11,
     "metadata": {},
     "output_type": "execute_result"
    }
   ],
   "source": [
    "give_recommendations(5,False,False, True)"
   ]
  }
 ],
 "metadata": {
  "kernelspec": {
   "display_name": "Python 3",
   "language": "python",
   "name": "python3"
  },
  "language_info": {
   "codemirror_mode": {
    "name": "ipython",
    "version": 3
   },
   "file_extension": ".py",
   "mimetype": "text/x-python",
   "name": "python",
   "nbconvert_exporter": "python",
   "pygments_lexer": "ipython3",
   "version": "3.10.2 (tags/v3.10.2:a58ebcc, Jan 17 2022, 14:12:15) [MSC v.1929 64 bit (AMD64)]"
  },
  "orig_nbformat": 4,
  "vscode": {
   "interpreter": {
    "hash": "b0ea0398bfc6d7f45abc68f44a548315348cf9ab79812a4dc9172071276c2fec"
   }
  }
 },
 "nbformat": 4,
 "nbformat_minor": 2
}
