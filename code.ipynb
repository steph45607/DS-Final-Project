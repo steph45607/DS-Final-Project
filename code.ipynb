{
 "cells": [
  {
   "cell_type": "code",
   "execution_count": 1,
   "metadata": {},
   "outputs": [],
   "source": [
    "from bs4 import BeautifulSoup\n",
    "import requests\n",
    "import html5lib\n",
    "import re\n",
    "import pandas as pd"
   ]
  },
  {
   "cell_type": "code",
   "execution_count": 2,
   "metadata": {},
   "outputs": [],
   "source": [
    "def clean_publish_year(raw_year):\n",
    "    result = re.search(r\".+\\W+published\\s*(\\b\\d+)\", raw_year)\n",
    "    # print(result.groups())\n",
    "    # print(raw_year)\n",
    "    if result == None:\n",
    "        return \"None\"\n",
    "    else:\n",
    "        return result.group(1)\n",
    "\n",
    "def clean_rating(raw_rating):\n",
    "    result = re.search(r\"(\\b\\d+.\\b\\d+)\", raw_rating)\n",
    "    if result == None:\n",
    "        return \"None\"\n",
    "    else:\n",
    "        return result.group(1)\n",
    "\n",
    "def clean_raters(raw_raters):\n",
    "    result = re.search(r\"((?:\\d+,?\\d+)*) ratings\", raw_raters)\n",
    "    if result == None:\n",
    "        return \"None\"\n",
    "    else:\n",
    "        return result.group(1)\n",
    "\n",
    "def clean_readers(raw_readers):\n",
    "    result = re.search(r\"(\\b\\d+)\", raw_readers)\n",
    "    if result == None:\n",
    "        return \"None\"\n",
    "    else:\n",
    "        return result.group(1)\n"
   ]
  },
  {
   "cell_type": "code",
   "execution_count": 3,
   "metadata": {},
   "outputs": [
    {
     "data": {
      "text/html": [
       "<div>\n",
       "<style scoped>\n",
       "    .dataframe tbody tr th:only-of-type {\n",
       "        vertical-align: middle;\n",
       "    }\n",
       "\n",
       "    .dataframe tbody tr th {\n",
       "        vertical-align: top;\n",
       "    }\n",
       "\n",
       "    .dataframe thead th {\n",
       "        text-align: right;\n",
       "    }\n",
       "</style>\n",
       "<table border=\"1\" class=\"dataframe\">\n",
       "  <thead>\n",
       "    <tr style=\"text-align: right;\">\n",
       "      <th></th>\n",
       "      <th>Title</th>\n",
       "      <th>Author</th>\n",
       "      <th>Year</th>\n",
       "      <th>Rating</th>\n",
       "      <th>Raters</th>\n",
       "      <th>Readers</th>\n",
       "    </tr>\n",
       "  </thead>\n",
       "  <tbody>\n",
       "    <tr>\n",
       "      <th>0</th>\n",
       "      <td>Verity</td>\n",
       "      <td>Colleen Hoover</td>\n",
       "      <td>2018</td>\n",
       "      <td>4.42</td>\n",
       "      <td>1226030</td>\n",
       "      <td>11</td>\n",
       "    </tr>\n",
       "    <tr>\n",
       "      <th>1</th>\n",
       "      <td>I'm Glad My Mom Died</td>\n",
       "      <td>Jennette McCurdy</td>\n",
       "      <td>2022</td>\n",
       "      <td>4.66</td>\n",
       "      <td>123496</td>\n",
       "      <td>10</td>\n",
       "    </tr>\n",
       "    <tr>\n",
       "      <th>2</th>\n",
       "      <td>It Ends with Us</td>\n",
       "      <td>Colleen Hoover</td>\n",
       "      <td>2016</td>\n",
       "      <td>4.38</td>\n",
       "      <td>1653096</td>\n",
       "      <td>8</td>\n",
       "    </tr>\n",
       "    <tr>\n",
       "      <th>3</th>\n",
       "      <td>Carrie Soto Is Back</td>\n",
       "      <td>Taylor Jenkins Reid</td>\n",
       "      <td>2022</td>\n",
       "      <td>4.32</td>\n",
       "      <td>66046</td>\n",
       "      <td>7</td>\n",
       "    </tr>\n",
       "    <tr>\n",
       "      <th>4</th>\n",
       "      <td>The Seven Husbands of Evelyn Hugo</td>\n",
       "      <td>Taylor Jenkins Reid</td>\n",
       "      <td>2017</td>\n",
       "      <td>4.47</td>\n",
       "      <td>1531072</td>\n",
       "      <td>7</td>\n",
       "    </tr>\n",
       "  </tbody>\n",
       "</table>\n",
       "</div>"
      ],
      "text/plain": [
       "                               Title               Author  Year Rating  \\\n",
       "0                             Verity       Colleen Hoover  2018   4.42   \n",
       "1               I'm Glad My Mom Died     Jennette McCurdy  2022   4.66   \n",
       "2                    It Ends with Us       Colleen Hoover  2016   4.38   \n",
       "3                Carrie Soto Is Back  Taylor Jenkins Reid  2022   4.32   \n",
       "4  The Seven Husbands of Evelyn Hugo  Taylor Jenkins Reid  2017   4.47   \n",
       "\n",
       "    Raters Readers  \n",
       "0  1226030      11  \n",
       "1   123496      10  \n",
       "2  1653096       8  \n",
       "3    66046       7  \n",
       "4  1531072       7  "
      ]
     },
     "execution_count": 3,
     "metadata": {},
     "output_type": "execute_result"
    }
   ],
   "source": [
    "books = []\n",
    "response = requests.get(\"https://www.goodreads.com/book/most_read\")\n",
    "html_soup = BeautifulSoup(response.text, 'html5lib')\n",
    "book_container = html_soup.find_all('tr')\n",
    "for book in book_container:\n",
    "    bookTitle = book.find('a', class_ = \"bookTitle\").text.strip()\n",
    "    bookAuthor = book.find('a', class_ = \"authorName\").text.strip()\n",
    "    year = clean_publish_year(book.find('span', class_ = \"greyText smallText uitext\").text.strip())\n",
    "    rating = clean_rating(book.find('span', class_ = \"minirating\").text.strip())\n",
    "    raters = clean_raters(book.find('span', class_ = \"minirating\").text.strip()).replace(\",\", \"\")\n",
    "    readerNum = clean_readers(book.find('span', class_ = \"greyText statistic\").text.strip())\n",
    "    book_data = [bookTitle, bookAuthor, year, rating, raters, readerNum]\n",
    "    books.append(book_data)\n",
    "books = pd.DataFrame(books, columns=[\"Title\", \"Author\", \"Year\", \"Rating\",\"Raters\", \"Readers\"])\n",
    "books.head()"
   ]
  },
  {
   "cell_type": "code",
   "execution_count": 4,
   "metadata": {},
   "outputs": [],
   "source": [
    "books.to_csv(\"USAfter.csv\", index = False)"
   ]
  }
 ],
 "metadata": {
  "kernelspec": {
   "display_name": "Python 3.8.8 ('base')",
   "language": "python",
   "name": "python3"
  },
  "language_info": {
   "codemirror_mode": {
    "name": "ipython",
    "version": 3
   },
   "file_extension": ".py",
   "mimetype": "text/x-python",
   "name": "python",
   "nbconvert_exporter": "python",
   "pygments_lexer": "ipython3",
   "version": "3.8.8"
  },
  "orig_nbformat": 4,
  "vscode": {
   "interpreter": {
    "hash": "a21a4d8430ca198249bdb796151de090f5777c48c0e324da81ff190d429db2a2"
   }
  }
 },
 "nbformat": 4,
 "nbformat_minor": 2
}
