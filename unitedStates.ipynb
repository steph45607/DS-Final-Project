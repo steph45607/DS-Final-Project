{
 "cells": [
  {
   "cell_type": "code",
   "execution_count": 9,
   "metadata": {},
   "outputs": [],
   "source": [
    "from bs4 import BeautifulSoup\n",
    "import requests\n",
    "import html5lib\n",
    "import re\n",
    "import pandas as pd"
   ]
  },
  {
   "cell_type": "code",
   "execution_count": null,
   "metadata": {},
   "outputs": [],
   "source": [
    "episodes = []\n",
    "for sn in range(1,7):\n",
    "    response = requests.get('https://www.imdb.com/title/tt2575988/episodes?season='+str(sn))\n",
    "    html_soup = BeautifulSoup(response.text, 'html5lib')\n",
    "    episode_containers = html_soup.find_all('div', class_='info')\n",
    "    for episode in episode_containers:\n",
    "        season = sn\n",
    "        episodeNum = episode.meta['content']\n",
    "        episodeTitle = episode.a['title']\n",
    "        airdate = episode.find('div', class_ = \"airdate\").text.strip()\n",
    "        rating = episode.find('span', class_ = \"ipl-rating-star__rating\").text\n",
    "        totalVotes = episode.find('span', class_ = \"ipl-rating-star__total-votes\").text\n",
    "        desc = episode.find('div', class_ = 'item_description').text.strip()\n",
    "        episode_data = [season, episodeNum, episodeTitle, airdate, rating, totalVotes, desc]\n",
    "        episodes.append(episode_data)\n",
    "episodes = pd.DataFrame(episodes, columns= ['season', 'episode_number', 'title', 'airdate', 'rating', 'total_votes', 'desc'])\n",
    "episodes.head()"
   ]
  },
  {
   "cell_type": "code",
   "execution_count": 17,
   "metadata": {},
   "outputs": [
    {
     "data": {
      "text/html": [
       "<div>\n",
       "<style scoped>\n",
       "    .dataframe tbody tr th:only-of-type {\n",
       "        vertical-align: middle;\n",
       "    }\n",
       "\n",
       "    .dataframe tbody tr th {\n",
       "        vertical-align: top;\n",
       "    }\n",
       "\n",
       "    .dataframe thead th {\n",
       "        text-align: right;\n",
       "    }\n",
       "</style>\n",
       "<table border=\"1\" class=\"dataframe\">\n",
       "  <thead>\n",
       "    <tr style=\"text-align: right;\">\n",
       "      <th></th>\n",
       "      <th>Title</th>\n",
       "      <th>Author</th>\n",
       "      <th>Year</th>\n",
       "      <th>Rating</th>\n",
       "      <th>Readers</th>\n",
       "    </tr>\n",
       "  </thead>\n",
       "  <tbody>\n",
       "    <tr>\n",
       "      <th>0</th>\n",
       "      <td>Laut Bercerita</td>\n",
       "      <td>Leila S. Chudori</td>\n",
       "      <td>4.64 avg rating — 10,081 ratings\\n            ...</td>\n",
       "      <td>4.64 avg rating — 10,081 ratings</td>\n",
       "      <td>43\\n               people read it</td>\n",
       "    </tr>\n",
       "    <tr>\n",
       "      <th>1</th>\n",
       "      <td>Jakarta Sebelum Pagi</td>\n",
       "      <td>Ziggy Zezsyazeoviennazabrizkie</td>\n",
       "      <td>4.30 avg rating — 2,662 ratings\\n             ...</td>\n",
       "      <td>4.30 avg rating — 2,662 ratings</td>\n",
       "      <td>40\\n               people read it</td>\n",
       "    </tr>\n",
       "    <tr>\n",
       "      <th>2</th>\n",
       "      <td>The Seven Husbands of Evelyn Hugo</td>\n",
       "      <td>Taylor Jenkins Reid</td>\n",
       "      <td>4.47 avg rating — 1,529,121 ratings\\n         ...</td>\n",
       "      <td>4.47 avg rating — 1,529,121 ratings</td>\n",
       "      <td>40\\n               people read it</td>\n",
       "    </tr>\n",
       "    <tr>\n",
       "      <th>3</th>\n",
       "      <td>It Ends with Us</td>\n",
       "      <td>Colleen Hoover</td>\n",
       "      <td>4.38 avg rating — 1,650,787 ratings\\n         ...</td>\n",
       "      <td>4.38 avg rating — 1,650,787 ratings</td>\n",
       "      <td>31\\n               people read it</td>\n",
       "    </tr>\n",
       "    <tr>\n",
       "      <th>4</th>\n",
       "      <td>The Midnight Library</td>\n",
       "      <td>Matt Haig</td>\n",
       "      <td>4.03 avg rating — 1,125,349 ratings\\n         ...</td>\n",
       "      <td>4.03 avg rating — 1,125,349 ratings</td>\n",
       "      <td>29\\n               people read it</td>\n",
       "    </tr>\n",
       "  </tbody>\n",
       "</table>\n",
       "</div>"
      ],
      "text/plain": [
       "                               Title                          Author  \\\n",
       "0                     Laut Bercerita                Leila S. Chudori   \n",
       "1               Jakarta Sebelum Pagi  Ziggy Zezsyazeoviennazabrizkie   \n",
       "2  The Seven Husbands of Evelyn Hugo             Taylor Jenkins Reid   \n",
       "3                    It Ends with Us                  Colleen Hoover   \n",
       "4               The Midnight Library                       Matt Haig   \n",
       "\n",
       "                                                Year  \\\n",
       "0  4.64 avg rating — 10,081 ratings\\n            ...   \n",
       "1  4.30 avg rating — 2,662 ratings\\n             ...   \n",
       "2  4.47 avg rating — 1,529,121 ratings\\n         ...   \n",
       "3  4.38 avg rating — 1,650,787 ratings\\n         ...   \n",
       "4  4.03 avg rating — 1,125,349 ratings\\n         ...   \n",
       "\n",
       "                                Rating                            Readers  \n",
       "0     4.64 avg rating — 10,081 ratings  43\\n               people read it  \n",
       "1      4.30 avg rating — 2,662 ratings  40\\n               people read it  \n",
       "2  4.47 avg rating — 1,529,121 ratings  40\\n               people read it  \n",
       "3  4.38 avg rating — 1,650,787 ratings  31\\n               people read it  \n",
       "4  4.03 avg rating — 1,125,349 ratings  29\\n               people read it  "
      ]
     },
     "execution_count": 17,
     "metadata": {},
     "output_type": "execute_result"
    }
   ],
   "source": [
    "books = []\n",
    "response = requests.get(\"https://www.goodreads.com/book/most_read\")\n",
    "html_soup = BeautifulSoup(response.text, 'html5lib')\n",
    "book_container = html_soup.find_all('tr')\n",
    "for book in book_container:\n",
    "    bookTitle = book.find('a', class_ = \"bookTitle\").text.strip()\n",
    "    bookAuthor = book.find('a', class_ = \"authorName\").text.strip()\n",
    "    year = book.find('span', class_ = \"greyText smallText uitext\").text.strip()\n",
    "    rating = book.find('span', class_ = \"minirating\").text.strip()\n",
    "    readerNum = book.find('span', class_ = \"greyText statistic\").text.strip()\n",
    "    book_data = [bookTitle, bookAuthor, year, rating, readerNum]\n",
    "    books.append(book_data)\n",
    "books = pd.DataFrame(books, columns=[\"Title\", \"Author\", \"Year\", \"Rating\", \"Readers\"])\n",
    "books.head()"
   ]
  },
  {
   "cell_type": "code",
   "execution_count": 19,
   "metadata": {},
   "outputs": [],
   "source": [
    "books.to_csv(\"Indo.csv\", index = False)"
   ]
  }
 ],
 "metadata": {
  "kernelspec": {
   "display_name": "Python 3.8.8 ('base')",
   "language": "python",
   "name": "python3"
  },
  "language_info": {
   "codemirror_mode": {
    "name": "ipython",
    "version": 3
   },
   "file_extension": ".py",
   "mimetype": "text/x-python",
   "name": "python",
   "nbconvert_exporter": "python",
   "pygments_lexer": "ipython3",
   "version": "3.8.8"
  },
  "orig_nbformat": 4,
  "vscode": {
   "interpreter": {
    "hash": "a21a4d8430ca198249bdb796151de090f5777c48c0e324da81ff190d429db2a2"
   }
  }
 },
 "nbformat": 4,
 "nbformat_minor": 2
}
