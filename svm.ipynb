{
 "cells": [
  {
   "cell_type": "code",
   "execution_count": 2,
   "metadata": {},
   "outputs": [],
   "source": [
    "#import libraries\n",
    "import pandas as pd\n",
    "import matplotlib.pyplot as plt\n",
    "import matplotlib\n",
    "from sklearn import datasets\n",
    "from sklearn.svm import  SVC\n",
    "import numpy as np\n",
    "from sklearn.metrics import accuracy_score"
   ]
  },
  {
   "cell_type": "code",
   "execution_count": 3,
   "metadata": {},
   "outputs": [
    {
     "data": {
      "text/plain": [
       "SVC(C=1, gamma=10, random_state=1)"
      ]
     },
     "execution_count": 3,
     "metadata": {},
     "output_type": "execute_result"
    }
   ],
   "source": [
    "df = pd.read_csv(\"CombinedBooksRandomized.csv\")\n",
    "X = df.loc[:,\"Author Average Rating\":\"Rating\"]\n",
    "y = df.loc[:,\"Raters\"]\n",
    "\n",
    "#SVM TESTING LOGS - RBF KERNEL\n",
    "# svm = SVC(kernel = 'rbf', random_state=1, gamma=0.05, C = 1) #Accuracy score :0.9924768518518519  \n",
    "# svm = SVC(kernel = 'rbf', random_state=1, gamma=0.000001, C = 100) #Accuracy score : 0.9230324074074074\n",
    "svm = SVC(kernel = 'rbf', random_state=1, gamma=10, C = 1) #Accuracy score : 0.9965277777777778 ->> current highest accuracy score\n",
    "svm.fit(X,y)"
   ]
  },
  {
   "cell_type": "code",
   "execution_count": 4,
   "metadata": {},
   "outputs": [
    {
     "name": "stdout",
     "output_type": "stream",
     "text": [
      "Accuracy score: 0.9965277777777778\n"
     ]
    }
   ],
   "source": [
    "#the prediction and accuracy score\n",
    "y_pred = svm.predict(X)\n",
    "print(\"Accuracy score: \" + str(accuracy_score(y, y_pred)))"
   ]
  }
 ],
 "metadata": {
  "kernelspec": {
   "display_name": "base",
   "language": "python",
   "name": "python3"
  },
  "language_info": {
   "codemirror_mode": {
    "name": "ipython",
    "version": 3
   },
   "file_extension": ".py",
   "mimetype": "text/x-python",
   "name": "python",
   "nbconvert_exporter": "python",
   "pygments_lexer": "ipython3",
   "version": "3.9.12 (main, Apr  4 2022, 05:22:27) [MSC v.1916 64 bit (AMD64)]"
  },
  "orig_nbformat": 4,
  "vscode": {
   "interpreter": {
    "hash": "6b653cce55b49036c6addb2704e0494e1a69bc998590e4b3eca4f60dd3d1794b"
   }
  }
 },
 "nbformat": 4,
 "nbformat_minor": 2
}
