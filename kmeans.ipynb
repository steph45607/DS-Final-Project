{
 "cells": [
  {
   "cell_type": "code",
   "execution_count": 137,
   "metadata": {},
   "outputs": [],
   "source": [
    "import pandas as pd\n",
    "import numpy as np\n",
    "import matplotlib.pyplot as plt\n",
    "from sklearn.cluster import KMeans\n",
    "from sklearn.preprocessing import MinMaxScaler\n",
    "from sklearn.metrics import silhouette_score\n",
    "import seaborn as sns"
   ]
  },
  {
   "cell_type": "code",
   "execution_count": 138,
   "metadata": {},
   "outputs": [
    {
     "data": {
      "text/html": [
       "<div>\n",
       "<style scoped>\n",
       "    .dataframe tbody tr th:only-of-type {\n",
       "        vertical-align: middle;\n",
       "    }\n",
       "\n",
       "    .dataframe tbody tr th {\n",
       "        vertical-align: top;\n",
       "    }\n",
       "\n",
       "    .dataframe thead th {\n",
       "        text-align: right;\n",
       "    }\n",
       "</style>\n",
       "<table border=\"1\" class=\"dataframe\">\n",
       "  <thead>\n",
       "    <tr style=\"text-align: right;\">\n",
       "      <th></th>\n",
       "      <th>Title</th>\n",
       "      <th>Author</th>\n",
       "      <th>Author Average Rating</th>\n",
       "      <th>Author Votes</th>\n",
       "      <th>Review Count</th>\n",
       "      <th>Distinct Works</th>\n",
       "      <th>Year</th>\n",
       "      <th>Rating</th>\n",
       "      <th>Raters</th>\n",
       "      <th>Genres</th>\n",
       "      <th>cluster</th>\n",
       "    </tr>\n",
       "  </thead>\n",
       "  <tbody>\n",
       "    <tr>\n",
       "      <th>0</th>\n",
       "      <td>The Left Hand of Darkness (Paperback)</td>\n",
       "      <td>Ursula K. Le Guin</td>\n",
       "      <td>4.07</td>\n",
       "      <td>1258005</td>\n",
       "      <td>85585</td>\n",
       "      <td>753</td>\n",
       "      <td>1969</td>\n",
       "      <td>4.09</td>\n",
       "      <td>155037</td>\n",
       "      <td>Science Fiction,Fiction,Fantasy,Classics,Scien...</td>\n",
       "      <td>0</td>\n",
       "    </tr>\n",
       "    <tr>\n",
       "      <th>1</th>\n",
       "      <td>Wish You Were Here (Hardcover)</td>\n",
       "      <td>Jodi Picoult</td>\n",
       "      <td>3.99</td>\n",
       "      <td>4447186</td>\n",
       "      <td>273761</td>\n",
       "      <td>82</td>\n",
       "      <td>2021</td>\n",
       "      <td>3.99</td>\n",
       "      <td>153115</td>\n",
       "      <td>Fiction,Contemporary,Audiobook,Romance,Adult,A...</td>\n",
       "      <td>0</td>\n",
       "    </tr>\n",
       "    <tr>\n",
       "      <th>2</th>\n",
       "      <td>If I Had Your Face (Hardcover)</td>\n",
       "      <td>Frances Cha</td>\n",
       "      <td>3.76</td>\n",
       "      <td>41079</td>\n",
       "      <td>5356</td>\n",
       "      <td>4</td>\n",
       "      <td>2020</td>\n",
       "      <td>3.76</td>\n",
       "      <td>41078</td>\n",
       "      <td>Fiction,Contemporary,Literary Fiction,Adult,Fe...</td>\n",
       "      <td>0</td>\n",
       "    </tr>\n",
       "    <tr>\n",
       "      <th>3</th>\n",
       "      <td>I'll Be Gone in the Dark: One Woman's Obsessiv...</td>\n",
       "      <td>Michelle McNamara</td>\n",
       "      <td>4.12</td>\n",
       "      <td>210117</td>\n",
       "      <td>18190</td>\n",
       "      <td>2</td>\n",
       "      <td>2018</td>\n",
       "      <td>4.12</td>\n",
       "      <td>210038</td>\n",
       "      <td>Nonfiction,Crime,Audiobook,Mystery,Mystery,His...</td>\n",
       "      <td>0</td>\n",
       "    </tr>\n",
       "    <tr>\n",
       "      <th>4</th>\n",
       "      <td>1984 (Paperback)</td>\n",
       "      <td>George Orwell</td>\n",
       "      <td>4.10</td>\n",
       "      <td>8007938</td>\n",
       "      <td>201434</td>\n",
       "      <td>729</td>\n",
       "      <td>1949</td>\n",
       "      <td>4.19</td>\n",
       "      <td>4034352</td>\n",
       "      <td>Classics,Fiction,Science Fiction,Science Ficti...</td>\n",
       "      <td>1</td>\n",
       "    </tr>\n",
       "    <tr>\n",
       "      <th>...</th>\n",
       "      <td>...</td>\n",
       "      <td>...</td>\n",
       "      <td>...</td>\n",
       "      <td>...</td>\n",
       "      <td>...</td>\n",
       "      <td>...</td>\n",
       "      <td>...</td>\n",
       "      <td>...</td>\n",
       "      <td>...</td>\n",
       "      <td>...</td>\n",
       "      <td>...</td>\n",
       "    </tr>\n",
       "    <tr>\n",
       "      <th>1723</th>\n",
       "      <td>The Bear and the Nightingale (The Winternight ...</td>\n",
       "      <td>Katherine Arden</td>\n",
       "      <td>4.23</td>\n",
       "      <td>353862</td>\n",
       "      <td>48530</td>\n",
       "      <td>14</td>\n",
       "      <td>2017</td>\n",
       "      <td>4.10</td>\n",
       "      <td>170787</td>\n",
       "      <td>Fantasy,Historical,Fiction,Young Adult,Histori...</td>\n",
       "      <td>0</td>\n",
       "    </tr>\n",
       "    <tr>\n",
       "      <th>1724</th>\n",
       "      <td>Only Superhuman</td>\n",
       "      <td>Christopher L. Bennett</td>\n",
       "      <td>3.87</td>\n",
       "      <td>15137</td>\n",
       "      <td>1503</td>\n",
       "      <td>60</td>\n",
       "      <td>2012</td>\n",
       "      <td>2.86</td>\n",
       "      <td>389</td>\n",
       "      <td>Science Fiction,Fiction,Comics,Fantasy,Sequent...</td>\n",
       "      <td>0</td>\n",
       "    </tr>\n",
       "    <tr>\n",
       "      <th>1725</th>\n",
       "      <td>Delirium (Delirium, #1)</td>\n",
       "      <td>Lauren Oliver</td>\n",
       "      <td>3.88</td>\n",
       "      <td>1385551</td>\n",
       "      <td>106047</td>\n",
       "      <td>51</td>\n",
       "      <td>2011</td>\n",
       "      <td>3.96</td>\n",
       "      <td>452659</td>\n",
       "      <td>Young Adult,Science Fiction,Romance,Science Fi...</td>\n",
       "      <td>0</td>\n",
       "    </tr>\n",
       "    <tr>\n",
       "      <th>1726</th>\n",
       "      <td>A Tree Grows in Brooklyn (Paperback)</td>\n",
       "      <td>Betty  Smith</td>\n",
       "      <td>4.28</td>\n",
       "      <td>448442</td>\n",
       "      <td>25874</td>\n",
       "      <td>15</td>\n",
       "      <td>1943</td>\n",
       "      <td>4.29</td>\n",
       "      <td>434302</td>\n",
       "      <td>Classics,Fiction,Historical,Young Adult,Young ...</td>\n",
       "      <td>0</td>\n",
       "    </tr>\n",
       "    <tr>\n",
       "      <th>1727</th>\n",
       "      <td>The Third Translation</td>\n",
       "      <td>Matt Bondurant</td>\n",
       "      <td>3.58</td>\n",
       "      <td>6388</td>\n",
       "      <td>851</td>\n",
       "      <td>7</td>\n",
       "      <td>2005</td>\n",
       "      <td>2.58</td>\n",
       "      <td>474</td>\n",
       "      <td>Fiction,Mystery,Thriller,Northern Africa,Histo...</td>\n",
       "      <td>0</td>\n",
       "    </tr>\n",
       "  </tbody>\n",
       "</table>\n",
       "<p>1728 rows × 11 columns</p>\n",
       "</div>"
      ],
      "text/plain": [
       "                                                  Title  \\\n",
       "0                 The Left Hand of Darkness (Paperback)   \n",
       "1                        Wish You Were Here (Hardcover)   \n",
       "2                        If I Had Your Face (Hardcover)   \n",
       "3     I'll Be Gone in the Dark: One Woman's Obsessiv...   \n",
       "4                                      1984 (Paperback)   \n",
       "...                                                 ...   \n",
       "1723  The Bear and the Nightingale (The Winternight ...   \n",
       "1724                                    Only Superhuman   \n",
       "1725                            Delirium (Delirium, #1)   \n",
       "1726               A Tree Grows in Brooklyn (Paperback)   \n",
       "1727                              The Third Translation   \n",
       "\n",
       "                      Author  Author Average Rating  Author Votes  \\\n",
       "0          Ursula K. Le Guin                   4.07       1258005   \n",
       "1               Jodi Picoult                   3.99       4447186   \n",
       "2                Frances Cha                   3.76         41079   \n",
       "3          Michelle McNamara                   4.12        210117   \n",
       "4              George Orwell                   4.10       8007938   \n",
       "...                      ...                    ...           ...   \n",
       "1723         Katherine Arden                   4.23        353862   \n",
       "1724  Christopher L. Bennett                   3.87         15137   \n",
       "1725           Lauren Oliver                   3.88       1385551   \n",
       "1726            Betty  Smith                   4.28        448442   \n",
       "1727          Matt Bondurant                   3.58          6388   \n",
       "\n",
       "      Review Count  Distinct Works  Year  Rating   Raters  \\\n",
       "0            85585             753  1969    4.09   155037   \n",
       "1           273761              82  2021    3.99   153115   \n",
       "2             5356               4  2020    3.76    41078   \n",
       "3            18190               2  2018    4.12   210038   \n",
       "4           201434             729  1949    4.19  4034352   \n",
       "...            ...             ...   ...     ...      ...   \n",
       "1723         48530              14  2017    4.10   170787   \n",
       "1724          1503              60  2012    2.86      389   \n",
       "1725        106047              51  2011    3.96   452659   \n",
       "1726         25874              15  1943    4.29   434302   \n",
       "1727           851               7  2005    2.58      474   \n",
       "\n",
       "                                                 Genres  cluster  \n",
       "0     Science Fiction,Fiction,Fantasy,Classics,Scien...        0  \n",
       "1     Fiction,Contemporary,Audiobook,Romance,Adult,A...        0  \n",
       "2     Fiction,Contemporary,Literary Fiction,Adult,Fe...        0  \n",
       "3     Nonfiction,Crime,Audiobook,Mystery,Mystery,His...        0  \n",
       "4     Classics,Fiction,Science Fiction,Science Ficti...        1  \n",
       "...                                                 ...      ...  \n",
       "1723  Fantasy,Historical,Fiction,Young Adult,Histori...        0  \n",
       "1724  Science Fiction,Fiction,Comics,Fantasy,Sequent...        0  \n",
       "1725  Young Adult,Science Fiction,Romance,Science Fi...        0  \n",
       "1726  Classics,Fiction,Historical,Young Adult,Young ...        0  \n",
       "1727  Fiction,Mystery,Thriller,Northern Africa,Histo...        0  \n",
       "\n",
       "[1728 rows x 11 columns]"
      ]
     },
     "execution_count": 138,
     "metadata": {},
     "output_type": "execute_result"
    }
   ],
   "source": [
    "df = pd.read_csv(\"CombinedBooksRandomized.csv\")\n",
    "X = df.loc[:,\"Author Average Rating\":\"Raters\"].values\n",
    "\n",
    "kmeans = KMeans(n_clusters=3, init='k-means++', random_state=42)\n",
    "y = kmeans.fit_predict(X)\n",
    "df[\"cluster\"] = y\n",
    "df\n"
   ]
  },
  {
   "cell_type": "code",
   "execution_count": 139,
   "metadata": {},
   "outputs": [
    {
     "data": {
      "text/plain": [
       "41"
      ]
     },
     "execution_count": 139,
     "metadata": {},
     "output_type": "execute_result"
    }
   ],
   "source": [
    "data1 = df[df.cluster == 0]\n",
    "data2 = df[df.cluster == 1]\n",
    "data3 = df[df.cluster == 2]\n",
    "min(df[\"Raters\"])"
   ]
  },
  {
   "cell_type": "code",
   "execution_count": 135,
   "metadata": {},
   "outputs": [
    {
     "data": {
      "image/png": "[encoded data removed]",
      "text/plain": [
       "<Figure size 432x288 with 1 Axes>"
      ]
     },
     "metadata": {
      "needs_background": "light"
     },
     "output_type": "display_data"
    }
   ],
   "source": [
    "kplot = plt.axes(projection='3d')\n",
    "xline = np.linspace(0, 2023)\n",
    "yline = np.linspace(0, 5)\n",
    "zline = np.linspace(0, 8958054)\n",
    "kplot.plot3D(xline, yline, zline, 'black')\n",
    "# Data for three-dimensional scattered points\n",
    "kplot.scatter3D(data1.Year, data1.Rating, data1.Raters, c='red', label = 'Cluster 1')\n",
    "kplot.scatter3D(data2.Year,data2.Rating,data2.Raters,c ='green', label = 'Cluster 2')\n",
    "kplot.scatter3D(data3.Year,data3.Rating,data3.Raters,c ='blue', label = 'Cluster 3')\n",
    "plt.scatter(kmeans.cluster_centers_[:,0], kmeans.cluster_centers_[:,1], color = 'indigo', s = 200)\n",
    "plt.legend()\n",
    "plt.title(\"Kmeans\")\n",
    "plt.show()"
   ]
  },
  {
   "cell_type": "code",
   "execution_count": 144,
   "metadata": {},
   "outputs": [
    {
     "data": {
      "text/plain": [
       "Text(0, 0.5, 'Raters')"
      ]
     },
     "execution_count": 144,
     "metadata": {},
     "output_type": "execute_result"
    },
    {
     "data": {
      "image/png": "[encoded data removed]",
      "text/plain": [
       "<Figure size 432x288 with 1 Axes>"
      ]
     },
     "metadata": {
      "needs_background": "light"
     },
     "output_type": "display_data"
    }
   ],
   "source": [
    "df1 = df[df.cluster == 0]\n",
    "df2 = df[df.cluster == 1]\n",
    "df3 = df[df.cluster == 2]\n",
    "plt.scatter(df1.Rating, df1.Raters, color=\"green\")\n",
    "plt.scatter(df2.Rating, df2.Raters, color=\"pink\")\n",
    "plt.scatter(df3.Rating, df3.Raters, color=\"blue\")\n",
    "plt.scatter(kmeans.cluster_centers_[:,0], kmeans.cluster_centers_[:,1], color = 'red', marker=\"*\")\n",
    "plt.xlabel(\"Rating\")\n",
    "plt.ylabel(\"Raters\")"
   ]
  },
  {
   "cell_type": "code",
   "execution_count": 143,
   "metadata": {},
   "outputs": [
    {
     "name": "stdout",
     "output_type": "stream",
     "text": [
      "0.8337589632200112\n"
     ]
    }
   ],
   "source": [
    "score = silhouette_score(X,y)\n",
    "print(score)"
   ]
  }
 ],
 "metadata": {
  "kernelspec": {
   "display_name": "base",
   "language": "python",
   "name": "python3"
  },
  "language_info": {
   "codemirror_mode": {
    "name": "ipython",
    "version": 3
   },
   "file_extension": ".py",
   "mimetype": "text/x-python",
   "name": "python",
   "nbconvert_exporter": "python",
   "pygments_lexer": "ipython3",
   "version": "3.8.8"
  },
  "orig_nbformat": 4,
  "vscode": {
   "interpreter": {
    "hash": "a21a4d8430ca198249bdb796151de090f5777c48c0e324da81ff190d429db2a2"
   }
  }
 },
 "nbformat": 4,
 "nbformat_minor": 2
}
