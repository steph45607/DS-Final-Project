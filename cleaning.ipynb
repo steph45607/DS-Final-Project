{
 "cells": [
  {
   "cell_type": "code",
   "execution_count": 2,
   "metadata": {},
   "outputs": [],
   "source": [
    "import pandas as pd\n",
    "import seaborn as sb\n",
    "import matplotlib as plt"
   ]
  },
  {
   "attachments": {},
   "cell_type": "markdown",
   "metadata": {},
   "source": [
    "Read the csv then erase duplicates and NaN"
   ]
  },
  {
   "cell_type": "code",
   "execution_count": 68,
   "metadata": {},
   "outputs": [],
   "source": [
    "df = pd.read_csv(\"CombinedBooksRandomized.csv\")"
   ]
  },
  {
   "cell_type": "code",
   "execution_count": 69,
   "metadata": {},
   "outputs": [
    {
     "data": {
      "text/plain": [
       "0"
      ]
     },
     "execution_count": 69,
     "metadata": {},
     "output_type": "execute_result"
    }
   ],
   "source": [
    "df.duplicated().sum()"
   ]
  },
  {
   "cell_type": "code",
   "execution_count": 98,
   "metadata": {},
   "outputs": [],
   "source": [
    "df.drop_duplicates(subset=['Title'], inplace=True)"
   ]
  },
  {
   "cell_type": "code",
   "execution_count": 99,
   "metadata": {},
   "outputs": [
    {
     "data": {
      "text/plain": [
       "0"
      ]
     },
     "execution_count": 99,
     "metadata": {},
     "output_type": "execute_result"
    }
   ],
   "source": [
    "df.duplicated().sum()"
   ]
  },
  {
   "cell_type": "code",
   "execution_count": 100,
   "metadata": {},
   "outputs": [
    {
     "data": {
      "text/plain": [
       "Title                    0\n",
       "Author                   0\n",
       "Author Average Rating    0\n",
       "Author Votes             0\n",
       "Review Count             0\n",
       "Distinct Works           0\n",
       "Year                     0\n",
       "Rating                   0\n",
       "Raters                   0\n",
       "Genres                   0\n",
       "dtype: int64"
      ]
     },
     "execution_count": 100,
     "metadata": {},
     "output_type": "execute_result"
    }
   ],
   "source": [
    "df.isnull().sum()"
   ]
  },
  {
   "cell_type": "code",
   "execution_count": 39,
   "metadata": {},
   "outputs": [
    {
     "data": {
      "text/plain": [
       "Title                    0\n",
       "Author                   0\n",
       "Author Average Rating    0\n",
       "Author Votes             0\n",
       "Review Count             0\n",
       "Distinct Works           0\n",
       "Year                     0\n",
       "Rating                   0\n",
       "Raters                   0\n",
       "Genres                   0\n",
       "dtype: int64"
      ]
     },
     "execution_count": 39,
     "metadata": {},
     "output_type": "execute_result"
    }
   ],
   "source": [
    "cleaned = df.dropna()\n",
    "cleaned.isnull().sum()"
   ]
  },
  {
   "attachments": {},
   "cell_type": "markdown",
   "metadata": {},
   "source": [
    "Clean data from 'Missing' values"
   ]
  },
  {
   "cell_type": "code",
   "execution_count": 48,
   "metadata": {},
   "outputs": [
    {
     "data": {
      "text/plain": [
       "<bound method NDFrame.head of                                                   Title  \\\n",
       "0                 The Left Hand of Darkness (Paperback)   \n",
       "1                        Wish You Were Here (Hardcover)   \n",
       "2                        If I Had Your Face (Hardcover)   \n",
       "3     I'll Be Gone in the Dark: One Woman's Obsessiv...   \n",
       "4                                      1984 (Paperback)   \n",
       "...                                                 ...   \n",
       "1727  The Bear and the Nightingale (The Winternight ...   \n",
       "1728                                    Only Superhuman   \n",
       "1729                            Delirium (Delirium, #1)   \n",
       "1730               A Tree Grows in Brooklyn (Paperback)   \n",
       "1731                              The Third Translation   \n",
       "\n",
       "                      Author Author Average Rating Author Votes Review Count  \\\n",
       "0          Ursula K. Le Guin                  4.07    1,258,005       85,585   \n",
       "1               Jodi Picoult                  3.99    4,447,186      273,761   \n",
       "2                Frances Cha                  3.76       41,079        5,356   \n",
       "3          Michelle McNamara                  4.12      210,117       18,190   \n",
       "4              George Orwell                   4.1    8,007,938      201,434   \n",
       "...                      ...                   ...          ...          ...   \n",
       "1727         Katherine Arden                  4.23      353,862       48,530   \n",
       "1728  Christopher L. Bennett                  3.87       15,137        1,503   \n",
       "1729           Lauren Oliver                  3.88    1,385,551      106,047   \n",
       "1730            Betty  Smith                  4.28      448,442       25,874   \n",
       "1731          Matt Bondurant                  3.58        6,388          851   \n",
       "\n",
       "     Distinct Works  Year  Rating   Raters  \\\n",
       "0               753  1969    4.09   155037   \n",
       "1                82  2021    3.99   153115   \n",
       "2                 4  2020    3.76    41078   \n",
       "3                 2  2018    4.12   210038   \n",
       "4               729  1949    4.19  4034352   \n",
       "...             ...   ...     ...      ...   \n",
       "1727             14  2017    4.10   170787   \n",
       "1728             60  2012    2.86      389   \n",
       "1729             51  2011    3.96   452659   \n",
       "1730             15  1943    4.29   434302   \n",
       "1731              7  2005    2.58      474   \n",
       "\n",
       "                                                 Genres  \n",
       "0     Science Fiction,Fiction,Fantasy,Classics,Scien...  \n",
       "1     Fiction,Contemporary,Audiobook,Romance,Adult,A...  \n",
       "2     Fiction,Contemporary,Literary Fiction,Adult,Fe...  \n",
       "3     Nonfiction,Crime,Audiobook,Mystery,Mystery,His...  \n",
       "4     Classics,Fiction,Science Fiction,Science Ficti...  \n",
       "...                                                 ...  \n",
       "1727  Fantasy,Historical,Fiction,Young Adult,Histori...  \n",
       "1728  Science Fiction,Fiction,Comics,Fantasy,Sequent...  \n",
       "1729  Young Adult,Science Fiction,Romance,Science Fi...  \n",
       "1730  Classics,Fiction,Historical,Young Adult,Young ...  \n",
       "1731  Fiction,Mystery,Thriller,Northern Africa,Histo...  \n",
       "\n",
       "[1730 rows x 10 columns]>"
      ]
     },
     "execution_count": 48,
     "metadata": {},
     "output_type": "execute_result"
    }
   ],
   "source": [
    "# print(\"Short Stories,Literature\" in cleaned['Genres'].unique())\n",
    "# print(cleaned.loc[cleaned[\"Genres\"] == \"Short Stories,Literature\", \"Title\"])\n",
    "# print(type(cleaned))\n",
    "# cleaned.drop(cleaned[cleaned[\"Genres\"] == \"Short Stories, Literature\"].index, inplace=True)\n",
    "cleaned = cleaned[cleaned[\"Author Votes\"] != \"Missing\"]\n",
    "cleaned.head\n",
    "# cleaned\n",
    "# print(type(dropped))"
   ]
  },
  {
   "cell_type": "code",
   "execution_count": 49,
   "metadata": {},
   "outputs": [],
   "source": [
    "cleaned.to_csv(\"CombinedBooksRandomized.csv\", index=False)"
   ]
  },
  {
   "attachments": {},
   "cell_type": "markdown",
   "metadata": {},
   "source": [
    "Read csv then change datatype to int"
   ]
  },
  {
   "cell_type": "code",
   "execution_count": 66,
   "metadata": {},
   "outputs": [
    {
     "data": {
      "text/html": [
       "<div>\n",
       "<style scoped>\n",
       "    .dataframe tbody tr th:only-of-type {\n",
       "        vertical-align: middle;\n",
       "    }\n",
       "\n",
       "    .dataframe tbody tr th {\n",
       "        vertical-align: top;\n",
       "    }\n",
       "\n",
       "    .dataframe thead th {\n",
       "        text-align: right;\n",
       "    }\n",
       "</style>\n",
       "<table border=\"1\" class=\"dataframe\">\n",
       "  <thead>\n",
       "    <tr style=\"text-align: right;\">\n",
       "      <th></th>\n",
       "      <th>Title</th>\n",
       "      <th>Author</th>\n",
       "      <th>Author Average Rating</th>\n",
       "      <th>Author Votes</th>\n",
       "      <th>Review Count</th>\n",
       "      <th>Distinct Works</th>\n",
       "      <th>Year</th>\n",
       "      <th>Rating</th>\n",
       "      <th>Raters</th>\n",
       "      <th>Genres</th>\n",
       "    </tr>\n",
       "  </thead>\n",
       "  <tbody>\n",
       "    <tr>\n",
       "      <th>0</th>\n",
       "      <td>The Left Hand of Darkness (Paperback)</td>\n",
       "      <td>Ursula K. Le Guin</td>\n",
       "      <td>4.07</td>\n",
       "      <td>1258005</td>\n",
       "      <td>85585</td>\n",
       "      <td>753</td>\n",
       "      <td>1969</td>\n",
       "      <td>4.09</td>\n",
       "      <td>155037</td>\n",
       "      <td>Science Fiction,Fiction,Fantasy,Classics,Scien...</td>\n",
       "    </tr>\n",
       "    <tr>\n",
       "      <th>1</th>\n",
       "      <td>Wish You Were Here (Hardcover)</td>\n",
       "      <td>Jodi Picoult</td>\n",
       "      <td>3.99</td>\n",
       "      <td>4447186</td>\n",
       "      <td>273761</td>\n",
       "      <td>82</td>\n",
       "      <td>2021</td>\n",
       "      <td>3.99</td>\n",
       "      <td>153115</td>\n",
       "      <td>Fiction,Contemporary,Audiobook,Romance,Adult,A...</td>\n",
       "    </tr>\n",
       "    <tr>\n",
       "      <th>2</th>\n",
       "      <td>If I Had Your Face (Hardcover)</td>\n",
       "      <td>Frances Cha</td>\n",
       "      <td>3.76</td>\n",
       "      <td>41079</td>\n",
       "      <td>5356</td>\n",
       "      <td>4</td>\n",
       "      <td>2020</td>\n",
       "      <td>3.76</td>\n",
       "      <td>41078</td>\n",
       "      <td>Fiction,Contemporary,Literary Fiction,Adult,Fe...</td>\n",
       "    </tr>\n",
       "    <tr>\n",
       "      <th>3</th>\n",
       "      <td>I'll Be Gone in the Dark: One Woman's Obsessiv...</td>\n",
       "      <td>Michelle McNamara</td>\n",
       "      <td>4.12</td>\n",
       "      <td>210117</td>\n",
       "      <td>18190</td>\n",
       "      <td>2</td>\n",
       "      <td>2018</td>\n",
       "      <td>4.12</td>\n",
       "      <td>210038</td>\n",
       "      <td>Nonfiction,Crime,Audiobook,Mystery,Mystery,His...</td>\n",
       "    </tr>\n",
       "    <tr>\n",
       "      <th>4</th>\n",
       "      <td>1984 (Paperback)</td>\n",
       "      <td>George Orwell</td>\n",
       "      <td>4.10</td>\n",
       "      <td>8007938</td>\n",
       "      <td>201434</td>\n",
       "      <td>729</td>\n",
       "      <td>1949</td>\n",
       "      <td>4.19</td>\n",
       "      <td>4034352</td>\n",
       "      <td>Classics,Fiction,Science Fiction,Science Ficti...</td>\n",
       "    </tr>\n",
       "  </tbody>\n",
       "</table>\n",
       "</div>"
      ],
      "text/plain": [
       "                                               Title             Author  \\\n",
       "0              The Left Hand of Darkness (Paperback)  Ursula K. Le Guin   \n",
       "1                     Wish You Were Here (Hardcover)       Jodi Picoult   \n",
       "2                     If I Had Your Face (Hardcover)        Frances Cha   \n",
       "3  I'll Be Gone in the Dark: One Woman's Obsessiv...  Michelle McNamara   \n",
       "4                                   1984 (Paperback)      George Orwell   \n",
       "\n",
       "   Author Average Rating  Author Votes  Review Count  Distinct Works  Year  \\\n",
       "0                   4.07       1258005         85585             753  1969   \n",
       "1                   3.99       4447186        273761              82  2021   \n",
       "2                   3.76         41079          5356               4  2020   \n",
       "3                   4.12        210117         18190               2  2018   \n",
       "4                   4.10       8007938        201434             729  1949   \n",
       "\n",
       "   Rating   Raters                                             Genres  \n",
       "0    4.09   155037  Science Fiction,Fiction,Fantasy,Classics,Scien...  \n",
       "1    3.99   153115  Fiction,Contemporary,Audiobook,Romance,Adult,A...  \n",
       "2    3.76    41078  Fiction,Contemporary,Literary Fiction,Adult,Fe...  \n",
       "3    4.12   210038  Nonfiction,Crime,Audiobook,Mystery,Mystery,His...  \n",
       "4    4.19  4034352  Classics,Fiction,Science Fiction,Science Ficti...  "
      ]
     },
     "execution_count": 66,
     "metadata": {},
     "output_type": "execute_result"
    }
   ],
   "source": [
    "df = pd.read_csv(\"CombinedBooksRandomized.csv\")\n",
    "# df = df.stack().str.replace(\",\",\"\").unstack()\n",
    "df[\"Author Votes\"] = df[\"Author Votes\"].str.replace(\",\", \"\").astype(int)\n",
    "df[\"Review Count\"] = df[\"Review Count\"].str.replace(\",\", \"\").astype(int)\n",
    "df[\"Distinct Works\"] = df[\"Distinct Works\"].str.replace(\",\",\"\").astype(int)\n",
    "\n",
    "df.head()"
   ]
  },
  {
   "cell_type": "code",
   "execution_count": 67,
   "metadata": {},
   "outputs": [],
   "source": [
    "df.to_csv(\"CombinedBooksRandomized.csv\", index=False)"
   ]
  },
  {
   "cell_type": "code",
   "execution_count": 71,
   "metadata": {},
   "outputs": [],
   "source": [
    "df = pd.read_csv(\"CombinedBooksRandomized.csv\")"
   ]
  },
  {
   "cell_type": "code",
   "execution_count": 72,
   "metadata": {},
   "outputs": [
    {
     "name": "stdout",
     "output_type": "stream",
     "text": [
      "1\n",
      "7712\n",
      "290.8443287037037\n"
     ]
    }
   ],
   "source": [
    "print(min(df[\"Distinct Works\"]))\n",
    "print(max(df[\"Distinct Works\"]))\n",
    "print(df[\"Distinct Works\"].mean())"
   ]
  },
  {
   "attachments": {},
   "cell_type": "markdown",
   "metadata": {},
   "source": [
    "1 - 10 :very small\n",
    "11 - 49 : small\n",
    "50 - 100 : medium\n",
    "101 - 290 : average\n",
    "290 : large"
   ]
  },
  {
   "cell_type": "code",
   "execution_count": 74,
   "metadata": {},
   "outputs": [],
   "source": [
    "import numpy as np\n",
    "#rating class column\n",
    "conditions  = [ (df[\"Distinct Works\"] >= 1) & (df[\"Distinct Works\"] <= 10), (df[\"Distinct Works\"] > 10) & (df[\"Distinct Works\"] < 50), (df[\"Distinct Works\"] >= 50) & (df[\"Distinct Works\"] < 101), (df[\"Distinct Works\"] >= 101) & (df[\"Distinct Works\"] < 291), (df[\"Distinct Works\"] > 290)]\n",
    "choices     = [\"very small\", \"small\", \"medium\", \"average\", \"large\"]\n",
    "df[\"works_class\"] = np.select(conditions, choices, default=\"very small\")\n",
    "#rater class column\n",
    "# conditions  = [ df.Raters >= 25000, (df.Raters < 25000) & (df.Raters> 1000), (df.Raters <= 1000) ]\n",
    "# choices     = [ \"large\", 'medium', 'small' ]\n",
    "# df[\"raters_class\"] = np.select(conditions, choices, default=\"small\")\n",
    "\n",
    "# df['worth_reading']=np.where(((df[\"Distinct Works\"]_class == \"mediocre\") & (df.raters_class == \"large\"))|((df[\"Distinct Works\"]_class == \"good\") & ((df['raters_class'] == \"large\")|(df[\"raters_class\"] ==\"medium\"))) ,'yes','no')"
   ]
  }
 ],
 "metadata": {
  "kernelspec": {
   "display_name": "base",
   "language": "python",
   "name": "python3"
  },
  "language_info": {
   "codemirror_mode": {
    "name": "ipython",
    "version": 3
   },
   "file_extension": ".py",
   "mimetype": "text/x-python",
   "name": "python",
   "nbconvert_exporter": "python",
   "pygments_lexer": "ipython3",
   "version": "3.8.8"
  },
  "orig_nbformat": 4,
  "vscode": {
   "interpreter": {
    "hash": "a21a4d8430ca198249bdb796151de090f5777c48c0e324da81ff190d429db2a2"
   }
  }
 },
 "nbformat": 4,
 "nbformat_minor": 2
}
