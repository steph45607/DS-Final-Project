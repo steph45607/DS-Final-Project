{
 "cells": [
  {
   "cell_type": "code",
   "execution_count": 5,
   "metadata": {},
   "outputs": [],
   "source": [
    "from bs4 import BeautifulSoup\n",
    "import requests\n",
    "import re\n",
    "import pandas as pd"
   ]
  },
  {
   "cell_type": "code",
   "execution_count": 6,
   "metadata": {},
   "outputs": [],
   "source": [
    "#NY Times\n",
    "def convert_to_string(raw_elementtag):\n",
    "    if raw_elementtag == None:\n",
    "        return \"None\"\n",
    "    else:\n",
    "        for characters in raw_elementtag:\n",
    "            result = str(characters.text)\n",
    "            return result"
   ]
  },
  {
   "cell_type": "code",
   "execution_count": 7,
   "metadata": {},
   "outputs": [
    {
     "data": {
      "text/html": [
       "<div>\n",
       "<style scoped>\n",
       "    .dataframe tbody tr th:only-of-type {\n",
       "        vertical-align: middle;\n",
       "    }\n",
       "\n",
       "    .dataframe tbody tr th {\n",
       "        vertical-align: top;\n",
       "    }\n",
       "\n",
       "    .dataframe thead th {\n",
       "        text-align: right;\n",
       "    }\n",
       "</style>\n",
       "<table border=\"1\" class=\"dataframe\">\n",
       "  <thead>\n",
       "    <tr style=\"text-align: right;\">\n",
       "      <th></th>\n",
       "      <th>Title</th>\n",
       "      <th>Author</th>\n",
       "      <th>Publisher</th>\n",
       "      <th>Weeks On List</th>\n",
       "      <th>Last Week Rank</th>\n",
       "    </tr>\n",
       "  </thead>\n",
       "  <tbody>\n",
       "    <tr>\n",
       "      <th>0</th>\n",
       "      <td>VERITY</td>\n",
       "      <td>by Colleen Hoover</td>\n",
       "      <td>Grand Central</td>\n",
       "      <td>43 weeks on the list</td>\n",
       "      <td>Ranked 3 last week</td>\n",
       "    </tr>\n",
       "    <tr>\n",
       "      <th>1</th>\n",
       "      <td>IT ENDS WITH US</td>\n",
       "      <td>by Colleen Hoover</td>\n",
       "      <td>Atria</td>\n",
       "      <td>68 weeks on the list</td>\n",
       "      <td>Ranked 2 last week</td>\n",
       "    </tr>\n",
       "    <tr>\n",
       "      <th>2</th>\n",
       "      <td>FAIRY TALE</td>\n",
       "      <td>by Stephen King</td>\n",
       "      <td>Scribner</td>\n",
       "      <td>4 weeks on the list</td>\n",
       "      <td>Ranked 5 last week</td>\n",
       "    </tr>\n",
       "    <tr>\n",
       "      <th>3</th>\n",
       "      <td>THE GOLDEN ENCLAVES</td>\n",
       "      <td>by Naomi Novik</td>\n",
       "      <td>Del Rey</td>\n",
       "      <td>New this week</td>\n",
       "      <td>None</td>\n",
       "    </tr>\n",
       "    <tr>\n",
       "      <th>4</th>\n",
       "      <td>WHERE THE CRAWDADS SING</td>\n",
       "      <td>by Delia Owens</td>\n",
       "      <td>Putnam</td>\n",
       "      <td>180 weeks on the list</td>\n",
       "      <td>Ranked 4 last week</td>\n",
       "    </tr>\n",
       "  </tbody>\n",
       "</table>\n",
       "</div>"
      ],
      "text/plain": [
       "                     Title             Author      Publisher  \\\n",
       "0                   VERITY  by Colleen Hoover  Grand Central   \n",
       "1          IT ENDS WITH US  by Colleen Hoover          Atria   \n",
       "2               FAIRY TALE    by Stephen King       Scribner   \n",
       "3      THE GOLDEN ENCLAVES     by Naomi Novik        Del Rey   \n",
       "4  WHERE THE CRAWDADS SING     by Delia Owens         Putnam   \n",
       "\n",
       "           Weeks On List      Last Week Rank  \n",
       "0   43 weeks on the list  Ranked 3 last week  \n",
       "1   68 weeks on the list  Ranked 2 last week  \n",
       "2    4 weeks on the list  Ranked 5 last week  \n",
       "3          New this week                None  \n",
       "4  180 weeks on the list  Ranked 4 last week  "
      ]
     },
     "execution_count": 7,
     "metadata": {},
     "output_type": "execute_result"
    }
   ],
   "source": [
    "books2 = []\n",
    "response2 = requests.get(\"https://www.nytimes.com/books/best-sellers/combined-print-and-e-book-fiction/\")\n",
    "html_soup2 = BeautifulSoup(response2.text)\n",
    "book_container2 = html_soup2.find_all('li', class_= \"css-13y32ub\")\n",
    "\n",
    "for book in book_container2:\n",
    "    bookTitle2 = book.find(\"h3\", class_ = \"css-5pe77f\").text.strip()\n",
    "    bookAuthor2 = book.find('p', class_ = \"css-hjukut\").text\n",
    "    weeksOnList = book.find(\"p\", class_ = \"css-1o26r9v\").text\n",
    "    lastWeekRank = convert_to_string(book.find('div',attrs={\"class\" : \"css-1dv1kvn\"}))\n",
    "    publisher = book.find('p', class_ = \"css-heg334\").text.strip()\n",
    "    book_data2 = [bookTitle2, bookAuthor2, publisher, weeksOnList, lastWeekRank]\n",
    "    books2.append(book_data2)\n",
    "books2 = pd.DataFrame(books2, columns=[\"Title\", \"Author\", \"Publisher\", \"Weeks On List\", \"Last Week Rank\"])\n",
    "books2.head()"
   ]
  },
  {
   "cell_type": "code",
   "execution_count": 8,
   "metadata": {},
   "outputs": [],
   "source": [
    "books2.to_csv(\"NYTimesBefore.csv\")"
   ]
  }
 ],
 "metadata": {
  "kernelspec": {
   "display_name": "Python 3.10.2 64-bit",
   "language": "python",
   "name": "python3"
  },
  "language_info": {
   "codemirror_mode": {
    "name": "ipython",
    "version": 3
   },
   "file_extension": ".py",
   "mimetype": "text/x-python",
   "name": "python",
   "nbconvert_exporter": "python",
   "pygments_lexer": "ipython3",
   "version": "3.10.2"
  },
  "orig_nbformat": 4,
  "vscode": {
   "interpreter": {
    "hash": "b0ea0398bfc6d7f45abc68f44a548315348cf9ab79812a4dc9172071276c2fec"
   }
  }
 },
 "nbformat": 4,
 "nbformat_minor": 2
}
