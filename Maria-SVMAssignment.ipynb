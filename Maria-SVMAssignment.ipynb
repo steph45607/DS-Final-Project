{
 "cells": [
  {
   "cell_type": "code",
   "execution_count": 53,
   "metadata": {},
   "outputs": [],
   "source": [
    "#import libraries\n",
    "import pandas as pd\n",
    "import matplotlib.pyplot as plt\n",
    "import matplotlib\n",
    "from sklearn import datasets\n",
    "from sklearn.svm import  SVC\n",
    "import numpy as np\n",
    "from sklearn.metrics import accuracy_score"
   ]
  },
  {
   "cell_type": "code",
   "execution_count": 54,
   "metadata": {},
   "outputs": [
    {
     "name": "stdout",
     "output_type": "stream",
     "text": [
      "<class 'pandas.core.frame.DataFrame'>\n",
      "RangeIndex: 1150 entries, 0 to 1149\n",
      "Data columns (total 5 columns):\n",
      " #   Column  Non-Null Count  Dtype  \n",
      "---  ------  --------------  -----  \n",
      " 0   Title   1150 non-null   object \n",
      " 1   Author  1150 non-null   object \n",
      " 2   Year    1150 non-null   int64  \n",
      " 3   Rating  1150 non-null   float64\n",
      " 4   Raters  1150 non-null   int64  \n",
      "dtypes: float64(1), int64(2), object(2)\n",
      "memory usage: 45.0+ KB\n",
      "<class 'pandas.core.frame.DataFrame'>\n",
      "RangeIndex: 1150 entries, 0 to 1149\n",
      "Data columns (total 6 columns):\n",
      " #   Column        Non-Null Count  Dtype  \n",
      "---  ------        --------------  -----  \n",
      " 0   Title         1150 non-null   object \n",
      " 1   Author        1150 non-null   object \n",
      " 2   Year          1150 non-null   int64  \n",
      " 3   Rating        1150 non-null   float64\n",
      " 4   Raters        1150 non-null   int64  \n",
      " 5   Rating_class  1150 non-null   object \n",
      "dtypes: float64(1), int64(2), object(3)\n",
      "memory usage: 54.0+ KB\n"
     ]
    },
    {
     "data": {
      "text/plain": [
       "SVC(C=1, gamma=1000, random_state=1)"
      ]
     },
     "execution_count": 54,
     "metadata": {},
     "output_type": "execute_result"
    }
   ],
   "source": [
    "#using my group's dataset\n",
    "data = pd.read_csv(\"HorrorMissingCleaned.csv\")\n",
    "data.info()\n",
    "\n",
    "data[\"Rating_class\"] = np.where(data[\"Rating\"] > 4.0, 'good', 'mid')\n",
    "data.info()\n",
    "\n",
    "#using iloc and loc on the dataset that we want to utilize\n",
    "X = data.iloc[0:1150, 2:4]\n",
    "y = data.loc[0:1150, 'Rating_class']\n",
    "\n",
    "#SVM TESTING LOGS\n",
    "#LINEAR KERNEL\n",
    "# svm = SVC(kernel = 'linear', random_state=1, gamma=0.05, C = 1) #Accuracy score : 72% or 0.72\n",
    "# svm = SVC(kernel = 'linear', random_state=1, gamma=0.000001, C = 100) #Accuracy score : 72% or 0.72\n",
    "# svm = SVC(kernel = 'linear', random_state=1, gamma=10, C = 100) #Accuracy score : 72% or 0.72\n",
    "\n",
    "#RBF KERNEL\n",
    "# svm = SVC(kernel = 'rbf', random_state=1, gamma=0.05, C = 1) #Accuracy score : 92% or 0.92\n",
    "# svm = SVC(kernel = 'rbf', random_state=1, gamma=0.000001, C = 100) #Accuracy score : 60% or 0.6\n",
    "svm = SVC(kernel = 'rbf', random_state=1, gamma=10, C = 1) #Accuracy score : 100% or 1.0 ==============> currently the best setting \n",
    "\n",
    "\n",
    "\n",
    "svm.fit(X,y)"
   ]
  },
  {
   "cell_type": "markdown",
   "metadata": {},
   "source": [
    "### Notes\n",
    "For this assignment, I tried around a few different svm kernel, gamma, and C settings. <br>\n",
    "<br>\n",
    "First I tried changing the gamma and C settings with the **linear kernel**. Interestingly, after changing the settings 3 different times as (gamma = 0.05, C = 1), (gamma = 0.000001, C = 100), and (gamma = 10, C = 1), the accuracy score of all the different test settings came out the same, 0.72 or 72%. With this I conclude that when using the linear kernel, the gamma and C values does not have a big effect on the accuracy score. Another thing to note is that the linear kernel might not be the best kernel to use, as it has an average to low accuracy score of 72%, therefore the predictions of this svm setting is probably not the most accurate. <br>\n",
    "<br>\n",
    "For the second type of kernel, I tried using the **RBF kernel**. Different with the linear kernel, the RBF kernel's accuracy score is affected significantly by the gamma and C values. After changing the settings 3 different times as (gamma = 0.05, C = 1), (gamma = 0.000001, C = 100), and (gamma = 10, C = 1), the accuracy scores all differ where the setting of (gamma = 0.05, C = 1) has the accuracy score of 92% or 0.92, (gamma = 0.000001, C = 100) has the accuracy score of 60% or 0.6, and (gamma = 10, C = 1) has the **highest accuracy score** reaching 1.0 or approximately 100%. <br>\n",
    "<br>\n",
    "### Conclusion \n",
    "* With that being said, for this dataset, using the RBF kernel allows us to try different settings and its effectivity on the accuracy score, making it more comparable to each other and allows room for experiments. Comparatively, the linear kernel used on this dataset is consistent, and is perhaps independent to the gamma and C values as it has little to no effect on the final accuracy scores. \n",
    "* When tried with the value of (gamma = 0.05, C = 1),, the RBF kernel (92%) performed significantly better in terms of accuracy score compared to the linear kernel (72%).\n",
    "* When tried with the value of (gamma = 0.000001, C = 100), the RBF kernel (60%) performed worse in terms of accuracy score compared to the linear kernel (72%).\n",
    "* When tried with the value of (gamma = 10, C = 1) , the RBF kernel (100%) performed significantly better in terms of accuracy score compared to the linear kernel (72%).\n",
    "* The best setting out of all the tried gamma and C values combination is kernel = 'rbf', random_state=1, gamma=10, C = 1, with the accuracy score of 1.0 or 100%\n",
    "* The worst setting out of all the tried gamma and C values combination is kernel = 'rbf', random_state=1, gamma=0.000001, C = 100, with the accuracy score of 0.6 or 60%\n",
    "* Overall, on this dataset, if looking for a consistent accuracy score, use the linear kernel svm, else if trying to experiment/find the most accurate prediction/accuracy score trial and error with the rbf kernel."
   ]
  },
  {
   "cell_type": "code",
   "execution_count": 55,
   "metadata": {},
   "outputs": [
    {
     "name": "stdout",
     "output_type": "stream",
     "text": [
      "Accuracy score: 1.0\n"
     ]
    }
   ],
   "source": [
    "#the prediction and accuracy score\n",
    "y_pred = svm.predict(X)\n",
    "print(\"Accuracy score: \" + str(accuracy_score(y, y_pred)))"
   ]
  },
  {
   "cell_type": "code",
   "execution_count": 56,
   "metadata": {},
   "outputs": [
    {
     "name": "stdout",
     "output_type": "stream",
     "text": [
      "<class 'pandas.core.frame.DataFrame'>\n",
      "RangeIndex: 1150 entries, 0 to 1149\n",
      "Data columns (total 6 columns):\n",
      " #   Column        Non-Null Count  Dtype  \n",
      "---  ------        --------------  -----  \n",
      " 0   Title         1150 non-null   object \n",
      " 1   Author        1150 non-null   object \n",
      " 2   Year          1150 non-null   int64  \n",
      " 3   Rating        1150 non-null   float64\n",
      " 4   Raters        1150 non-null   int64  \n",
      " 5   Rating_class  1150 non-null   object \n",
      "dtypes: float64(1), int64(2), object(3)\n",
      "memory usage: 54.0+ KB\n",
      "0\n"
     ]
    },
    {
     "data": {
      "image/png": "[encoded data removed]",
      "text/plain": [
       "<Figure size 1440x1440 with 1 Axes>"
      ]
     },
     "metadata": {
      "needs_background": "light"
     },
     "output_type": "display_data"
    }
   ],
   "source": [
    "#the plotting/visualizing the plot\n",
    "data.info()\n",
    "\n",
    "fig, ax = plt.subplots(figsize=(20,20))\n",
    "\n",
    "x = data[[\"Year\", \"Rating_class\"]]\n",
    "y = data[[\"Raters\", \"Rating_class\"]]\n",
    "z = data[\"Rating_class\"]\n",
    "\n",
    "ax.scatter(x[x[\"Rating_class\"]== \"good\"][\"Year\"], y[y[\"Rating_class\"]== \"good\"][\"Raters\"], color = \"red\", label = \"Good\")\n",
    "ax.scatter(x[x[\"Rating_class\"]== \"mid\"][\"Year\"], y[y[\"Rating_class\"]== \"mid\"][\"Raters\"], color = \"green\", label = \"Mid\")\n",
    "ax.legend()\n",
    "\n",
    "print(len(data[data['Title'] == \"Missing\"]))\n",
    "pd.DataFrame.dropna\n",
    "\n",
    "ax.set_xlabel('Year')\n",
    "ax.set_ylabel('Raters')\n",
    "ax.set_title('Years vs Raters')\n",
    "\n",
    "plt.show()"
   ]
  },
  {
   "cell_type": "code",
   "execution_count": 57,
   "metadata": {},
   "outputs": [],
   "source": [
    "data.to_csv(\"HorrorSVM.csv\", index = False)\n"
   ]
  }
 ],
 "metadata": {
  "kernelspec": {
   "display_name": "Python 3.9.12 ('base')",
   "language": "python",
   "name": "python3"
  },
  "language_info": {
   "codemirror_mode": {
    "name": "ipython",
    "version": 3
   },
   "file_extension": ".py",
   "mimetype": "text/x-python",
   "name": "python",
   "nbconvert_exporter": "python",
   "pygments_lexer": "ipython3",
   "version": "3.9.12"
  },
  "orig_nbformat": 4,
  "vscode": {
   "interpreter": {
    "hash": "6b653cce55b49036c6addb2704e0494e1a69bc998590e4b3eca4f60dd3d1794b"
   }
  }
 },
 "nbformat": 4,
 "nbformat_minor": 2
}
