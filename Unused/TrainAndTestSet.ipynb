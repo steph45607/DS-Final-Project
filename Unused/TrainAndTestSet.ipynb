{
 "cells": [
  {
   "cell_type": "code",
   "execution_count": 2,
   "metadata": {},
   "outputs": [],
   "source": [
    "import pandas as pd\n",
    "from sklearn.svm import  SVC\n",
    "import numpy as np\n",
    "from sklearn.metrics import accuracy_score\n",
    "from sklearn.model_selection import train_test_split\n",
    "from sklearn import metrics \n",
    "from sklearn import svm"
   ]
  },
  {
   "cell_type": "code",
   "execution_count": 3,
   "metadata": {},
   "outputs": [
    {
     "data": {
      "text/html": [
       "<div>\n",
       "<style scoped>\n",
       "    .dataframe tbody tr th:only-of-type {\n",
       "        vertical-align: middle;\n",
       "    }\n",
       "\n",
       "    .dataframe tbody tr th {\n",
       "        vertical-align: top;\n",
       "    }\n",
       "\n",
       "    .dataframe thead th {\n",
       "        text-align: right;\n",
       "    }\n",
       "</style>\n",
       "<table border=\"1\" class=\"dataframe\">\n",
       "  <thead>\n",
       "    <tr style=\"text-align: right;\">\n",
       "      <th></th>\n",
       "      <th>Title</th>\n",
       "      <th>Author</th>\n",
       "      <th>Year</th>\n",
       "      <th>Rating</th>\n",
       "      <th>Raters</th>\n",
       "      <th>Rating_class</th>\n",
       "    </tr>\n",
       "  </thead>\n",
       "  <tbody>\n",
       "    <tr>\n",
       "      <th>0</th>\n",
       "      <td>The Shining (Paperback)</td>\n",
       "      <td>Stephen King</td>\n",
       "      <td>1977</td>\n",
       "      <td>4.26</td>\n",
       "      <td>1331732</td>\n",
       "      <td>good</td>\n",
       "    </tr>\n",
       "    <tr>\n",
       "      <th>1</th>\n",
       "      <td>It (Paperback)</td>\n",
       "      <td>Stephen King</td>\n",
       "      <td>1986</td>\n",
       "      <td>4.25</td>\n",
       "      <td>979436</td>\n",
       "      <td>good</td>\n",
       "    </tr>\n",
       "    <tr>\n",
       "      <th>2</th>\n",
       "      <td>Dracula (Paperback)</td>\n",
       "      <td>Bram Stoker</td>\n",
       "      <td>1897</td>\n",
       "      <td>4.01</td>\n",
       "      <td>1119957</td>\n",
       "      <td>good</td>\n",
       "    </tr>\n",
       "    <tr>\n",
       "      <th>3</th>\n",
       "      <td>Carrie (Mass Market Paperback)</td>\n",
       "      <td>Stephen King</td>\n",
       "      <td>1974</td>\n",
       "      <td>3.98</td>\n",
       "      <td>630669</td>\n",
       "      <td>mediocre</td>\n",
       "    </tr>\n",
       "    <tr>\n",
       "      <th>4</th>\n",
       "      <td>Pet Sematary (Kindle Edition)</td>\n",
       "      <td>Stephen King</td>\n",
       "      <td>1983</td>\n",
       "      <td>4.04</td>\n",
       "      <td>516341</td>\n",
       "      <td>good</td>\n",
       "    </tr>\n",
       "    <tr>\n",
       "      <th>...</th>\n",
       "      <td>...</td>\n",
       "      <td>...</td>\n",
       "      <td>...</td>\n",
       "      <td>...</td>\n",
       "      <td>...</td>\n",
       "      <td>...</td>\n",
       "    </tr>\n",
       "    <tr>\n",
       "      <th>1243</th>\n",
       "      <td>The Other Black Girl (Hardcover)</td>\n",
       "      <td>Zakiya Dalila Harris</td>\n",
       "      <td>2021</td>\n",
       "      <td>3.40</td>\n",
       "      <td>59940</td>\n",
       "      <td>mediocre</td>\n",
       "    </tr>\n",
       "    <tr>\n",
       "      <th>1244</th>\n",
       "      <td>Blood Countess (Lady Slayers, #1)</td>\n",
       "      <td>Lana Popović</td>\n",
       "      <td>2020</td>\n",
       "      <td>3.47</td>\n",
       "      <td>2136</td>\n",
       "      <td>mediocre</td>\n",
       "    </tr>\n",
       "    <tr>\n",
       "      <th>1245</th>\n",
       "      <td>The Cuckoo Clock of Doom (Goosebumps, #28)</td>\n",
       "      <td>R.L. Stine</td>\n",
       "      <td>1995</td>\n",
       "      <td>3.64</td>\n",
       "      <td>7614</td>\n",
       "      <td>mediocre</td>\n",
       "    </tr>\n",
       "    <tr>\n",
       "      <th>1246</th>\n",
       "      <td>Färjan (Hardcover)</td>\n",
       "      <td>Mats Strandberg</td>\n",
       "      <td>2015</td>\n",
       "      <td>3.45</td>\n",
       "      <td>3671</td>\n",
       "      <td>mediocre</td>\n",
       "    </tr>\n",
       "    <tr>\n",
       "      <th>1247</th>\n",
       "      <td>Batman: Arkham Asylum - A Serious House on Ser...</td>\n",
       "      <td>Grant Morrison</td>\n",
       "      <td>1989</td>\n",
       "      <td>4.10</td>\n",
       "      <td>67023</td>\n",
       "      <td>good</td>\n",
       "    </tr>\n",
       "  </tbody>\n",
       "</table>\n",
       "<p>1248 rows × 6 columns</p>\n",
       "</div>"
      ],
      "text/plain": [
       "                                                  Title                Author  \\\n",
       "0                               The Shining (Paperback)          Stephen King   \n",
       "1                                        It (Paperback)          Stephen King   \n",
       "2                                   Dracula (Paperback)           Bram Stoker   \n",
       "3                        Carrie (Mass Market Paperback)          Stephen King   \n",
       "4                         Pet Sematary (Kindle Edition)          Stephen King   \n",
       "...                                                 ...                   ...   \n",
       "1243                   The Other Black Girl (Hardcover)  Zakiya Dalila Harris   \n",
       "1244                  Blood Countess (Lady Slayers, #1)          Lana Popović   \n",
       "1245         The Cuckoo Clock of Doom (Goosebumps, #28)            R.L. Stine   \n",
       "1246                                 Färjan (Hardcover)       Mats Strandberg   \n",
       "1247  Batman: Arkham Asylum - A Serious House on Ser...        Grant Morrison   \n",
       "\n",
       "      Year  Rating   Raters Rating_class  \n",
       "0     1977    4.26  1331732         good  \n",
       "1     1986    4.25   979436         good  \n",
       "2     1897    4.01  1119957         good  \n",
       "3     1974    3.98   630669     mediocre  \n",
       "4     1983    4.04   516341         good  \n",
       "...    ...     ...      ...          ...  \n",
       "1243  2021    3.40    59940     mediocre  \n",
       "1244  2020    3.47     2136     mediocre  \n",
       "1245  1995    3.64     7614     mediocre  \n",
       "1246  2015    3.45     3671     mediocre  \n",
       "1247  1989    4.10    67023         good  \n",
       "\n",
       "[1248 rows x 6 columns]"
      ]
     },
     "execution_count": 3,
     "metadata": {},
     "output_type": "execute_result"
    }
   ],
   "source": [
    "#creating classification conditions for the ratings, so it will be divided into 'good' (ratings >=4), 'mediocre (3<ratings<4),' and 'bad'(ratings<=3).\n",
    "df_goodreads_horror = pd.read_csv(\"HorrorSVMCookies.csv\")\n",
    "\n",
    "col = \"Rating\"\n",
    "conditions  = [ df_goodreads_horror[col] >= 4, (df_goodreads_horror[col] < 4) & (df_goodreads_horror[col]> 3), df_goodreads_horror[col] <= 3 ]\n",
    "choices     = [ \"good\", 'mediocre', 'bad' ]\n",
    "df_goodreads_horror[\"Rating_class\"] = np.select(conditions, choices, default=np.nan)\n",
    "\n",
    "df_goodreads_horror"
   ]
  },
  {
   "cell_type": "code",
   "execution_count": 18,
   "metadata": {},
   "outputs": [
    {
     "data": {
      "text/plain": [
       "506     mediocre\n",
       "111         good\n",
       "93          good\n",
       "1164        good\n",
       "61      mediocre\n",
       "          ...   \n",
       "193     mediocre\n",
       "236         good\n",
       "599     mediocre\n",
       "427         good\n",
       "542     mediocre\n",
       "Name: Rating_class, Length: 250, dtype: object"
      ]
     },
     "execution_count": 18,
     "metadata": {},
     "output_type": "execute_result"
    }
   ],
   "source": [
    "#Splitting Dataset\n",
    "feature_col = [\"Rating\"]\n",
    "X = df_goodreads_horror[feature_col]\n",
    "y = df_goodreads_horror[\"Rating_class\"]\n",
    "\n",
    "#Dividing the data set into train set data and test set data.\n",
    "X_train, X_test, y_train, y_test = train_test_split(X, y, test_size = 0.2, random_state = 8)\n",
    "\n",
    "#checking the train set data\n",
    "X_train\n",
    "y_train\n",
    "\n",
    "#checking the test set data\n",
    "X_test\n",
    "y_test\n"
   ]
  },
  {
   "cell_type": "code",
   "execution_count": 19,
   "metadata": {},
   "outputs": [
    {
     "name": "stdout",
     "output_type": "stream",
     "text": [
      "Accuracy Score = 0.966933867735471\n"
     ]
    }
   ],
   "source": [
    "#SVM settings\n",
    "svm = SVC(kernel='rbf', random_state=1, gamma=0.08, C=1)\n",
    "\n",
    "#training the model\n",
    "svm.fit(X_train, y_train)\n",
    "\n",
    "#predicting the train set\n",
    "y_pred=svm.predict(X_train)\n",
    "\n",
    "#printing the train set accuracy score\n",
    "print(\"Accuracy Score = \"+ str(accuracy_score(y_train, y_pred))) #Accuracy Score = 0.966933867735471"
   ]
  },
  {
   "cell_type": "code",
   "execution_count": 20,
   "metadata": {},
   "outputs": [
    {
     "name": "stdout",
     "output_type": "stream",
     "text": [
      "Accuracy Score = 0.976\n"
     ]
    }
   ],
   "source": [
    "#predicting the test set\n",
    "y_pred2=svm.predict(X_test)\n",
    "\n",
    "#printing the train set accuracy score\n",
    "print(\"Accuracy Score = \" + str(accuracy_score(y_test, y_pred2))) #Accuracy Score = 0.976"
   ]
  },
  {
   "cell_type": "markdown",
   "metadata": {},
   "source": [
    "## Comparing the train set data and test set data \n",
    "From the svm tests that we ran, we can compare the accuracy score of the train set and test set. </br>\n",
    "* the train set accuracy score is **0.966933867735471** or **97% (rounded off)** accurate.\n",
    "* the test set accuracy score is **0.976** or **97%** accurate. \n",
    "Both the train set accuracy and the test set accuracy is considered very good and optimal as it is >90% accurate.</br>\n",
    "The train set and test set accuracy is almost the same value (97% accurate for both). This means that our model is relatively accurate when evaluated by the SVM method. Therefore our model should be considered a good model. "
   ]
  }
 ],
 "metadata": {
  "kernelspec": {
   "display_name": "Python 3",
   "language": "python",
   "name": "python3"
  },
  "language_info": {
   "codemirror_mode": {
    "name": "ipython",
    "version": 3
   },
   "file_extension": ".py",
   "mimetype": "text/x-python",
   "name": "python",
   "nbconvert_exporter": "python",
   "pygments_lexer": "ipython3",
   "version": "3.10.2 (tags/v3.10.2:a58ebcc, Jan 17 2022, 14:12:15) [MSC v.1929 64 bit (AMD64)]"
  },
  "orig_nbformat": 4,
  "vscode": {
   "interpreter": {
    "hash": "b0ea0398bfc6d7f45abc68f44a548315348cf9ab79812a4dc9172071276c2fec"
   }
  }
 },
 "nbformat": 4,
 "nbformat_minor": 2
}
