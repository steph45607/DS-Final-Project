{
 "cells": [
  {
   "cell_type": "code",
   "execution_count": 1,
   "metadata": {},
   "outputs": [],
   "source": [
    "from bs4 import BeautifulSoup\n",
    "import requests\n",
    "import html5lib\n",
    "import re\n",
    "import pandas as pd"
   ]
  },
  {
   "cell_type": "code",
   "execution_count": 2,
   "metadata": {},
   "outputs": [],
   "source": [
    "def find_author_genres(soup):\n",
    "    author_genres = \"\"\n",
    "    profileItems = soup.find_all(\"div\", class_ = \"dataItem\")\n",
    "    for info in profileItems:\n",
    "        genreList = info.find_all(\"a\")\n",
    "        for thing in genreList:\n",
    "            checked = thing.get(\"href\")\n",
    "            if \"genres\" in checked:\n",
    "                author_genres += thing.text + \",\"\n",
    "            else:\n",
    "                continue\n",
    "    return author_genres"
   ]
  },
  {
   "cell_type": "code",
   "execution_count": 4,
   "metadata": {},
   "outputs": [
    {
     "ename": "AttributeError",
     "evalue": "'NoneType' object has no attribute 'text'",
     "output_type": "error",
     "traceback": [
      "\u001b[0;31m---------------------------------------------------------------------------\u001b[0m",
      "\u001b[0;31mAttributeError\u001b[0m                            Traceback (most recent call last)",
      "\u001b[0;32m<ipython-input-4-f38cd91a75e3>\u001b[0m in \u001b[0;36m<module>\u001b[0;34m\u001b[0m\n\u001b[1;32m     12\u001b[0m         \u001b[0;31m# avg_rating = html_soup2.find(\"span\", class_=\"average\").text\u001b[0m\u001b[0;34m\u001b[0m\u001b[0;34m\u001b[0m\u001b[0;34m\u001b[0m\u001b[0m\n\u001b[1;32m     13\u001b[0m         \u001b[0mauthor_genres\u001b[0m \u001b[0;34m=\u001b[0m \u001b[0mfind_author_genres\u001b[0m\u001b[0;34m(\u001b[0m\u001b[0mhtml_soup2\u001b[0m\u001b[0;34m)\u001b[0m\u001b[0;34m\u001b[0m\u001b[0;34m\u001b[0m\u001b[0m\n\u001b[0;32m---> 14\u001b[0;31m         \u001b[0mvotes\u001b[0m \u001b[0;34m=\u001b[0m \u001b[0mhtml_soup2\u001b[0m\u001b[0;34m.\u001b[0m\u001b[0mfind\u001b[0m\u001b[0;34m(\u001b[0m\u001b[0;34m\"span\"\u001b[0m\u001b[0;34m,\u001b[0m \u001b[0mclass_\u001b[0m \u001b[0;34m=\u001b[0m \u001b[0;34m\"votes\"\u001b[0m\u001b[0;34m)\u001b[0m\u001b[0;34m.\u001b[0m\u001b[0mtext\u001b[0m\u001b[0;34m\u001b[0m\u001b[0;34m\u001b[0m\u001b[0m\n\u001b[0m\u001b[1;32m     15\u001b[0m         \u001b[0mreviewCount\u001b[0m \u001b[0;34m=\u001b[0m \u001b[0mvotes\u001b[0m \u001b[0;34m=\u001b[0m \u001b[0mhtml_soup2\u001b[0m\u001b[0;34m.\u001b[0m\u001b[0mfind\u001b[0m\u001b[0;34m(\u001b[0m\u001b[0;34m\"span\"\u001b[0m\u001b[0;34m,\u001b[0m \u001b[0mclass_\u001b[0m \u001b[0;34m=\u001b[0m \u001b[0;34m\"count\"\u001b[0m\u001b[0;34m)\u001b[0m\u001b[0;34m.\u001b[0m\u001b[0mtext\u001b[0m\u001b[0;34m\u001b[0m\u001b[0;34m\u001b[0m\u001b[0m\n\u001b[1;32m     16\u001b[0m         \u001b[0mreviewbox\u001b[0m \u001b[0;34m=\u001b[0m \u001b[0mhtml_soup2\u001b[0m\u001b[0;34m.\u001b[0m\u001b[0mfind\u001b[0m\u001b[0;34m(\u001b[0m\u001b[0;34m\"div\"\u001b[0m\u001b[0;34m,\u001b[0m \u001b[0mclass_\u001b[0m \u001b[0;34m=\u001b[0m \u001b[0;34m\"hreview-aggregate\"\u001b[0m\u001b[0;34m)\u001b[0m\u001b[0;34m\u001b[0m\u001b[0;34m\u001b[0m\u001b[0m\n",
      "\u001b[0;31mAttributeError\u001b[0m: 'NoneType' object has no attribute 'text'"
     ]
    }
   ],
   "source": [
    "authors = []\n",
    "for page in range(1,25):\n",
    "    response = requests.get(\"https://www.goodreads.com/author/on_goodreads?page=\" + str(page))\n",
    "    html_soup = BeautifulSoup(response.text, 'html5lib')\n",
    "    author_container = html_soup.find_all('div', class_ = \"elementList bookAuthorProfile u-paddingBottomSmall u-paddingTopSmall\")\n",
    "    for author in author_container:\n",
    "        authorName = author.find(\"a\", class_ = \"bookAuthorProfile__name\")\n",
    "        authorLink = \"https://www.goodreads.com\" + author.a.get(\"href\")\n",
    "\n",
    "        author_response = requests.get(authorLink)\n",
    "        html_soup2 = BeautifulSoup(author_response.text, 'html5lib')\n",
    "        # avg_rating = html_soup2.find(\"span\", class_=\"average\").text\n",
    "        author_genres = find_author_genres(html_soup2)\n",
    "        votes = html_soup2.find(\"span\", class_ = \"votes\").text\n",
    "        reviewCount = votes = html_soup2.find(\"span\", class_ = \"count\").text\n",
    "        reviewbox = html_soup2.find(\"div\", class_ = \"hreview-aggregate\")\n",
    "        distinct_works = reviewbox.a.text\n",
    "\n",
    "\n",
    "        author_data = [authorName, authorLink, author_genres, avg_rating, votes, reviewCount, distinct_works]\n",
    "        authors.append(author_data)\n",
    "authors = pd.DataFrame(authors, columns=[\"Author Name\", \"Author GoodReads Link\", \"Average Rating\", \"Votes\", \"Review Count\", \"Distinct Works\"])\n",
    "authors.head()"
   ]
  }
 ],
 "metadata": {
  "kernelspec": {
   "display_name": "Python 3.8.8 ('base')",
   "language": "python",
   "name": "python3"
  },
  "language_info": {
   "codemirror_mode": {
    "name": "ipython",
    "version": 3
   },
   "file_extension": ".py",
   "mimetype": "text/x-python",
   "name": "python",
   "nbconvert_exporter": "python",
   "pygments_lexer": "ipython3",
   "version": "3.8.8"
  },
  "orig_nbformat": 4,
  "vscode": {
   "interpreter": {
    "hash": "a21a4d8430ca198249bdb796151de090f5777c48c0e324da81ff190d429db2a2"
   }
  }
 },
 "nbformat": 4,
 "nbformat_minor": 2
}
