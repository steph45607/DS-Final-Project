{
 "cells": [
  {
   "cell_type": "code",
   "execution_count": 17,
   "metadata": {},
   "outputs": [],
   "source": [
    "from bs4 import BeautifulSoup\n",
    "import requests\n",
    "import html5lib\n",
    "import re\n",
    "import pandas as pd\n",
    "import numpy as np"
   ]
  },
  {
   "cell_type": "code",
   "execution_count": 18,
   "metadata": {},
   "outputs": [],
   "source": [
    "def clean_publish_year(raw_year):\n",
    "    if type(raw_year) is None:\n",
    "        return 0\n",
    "    result = re.search(r\"published (\\b\\d+)\", raw_year)\n",
    "    if result == None:\n",
    "        return 0\n",
    "    else:\n",
    "        return result.group(1)\n",
    "\n",
    "def clean_rating(raw_rating):\n",
    "    if type(raw_rating) is None:\n",
    "        return 0\n",
    "    result = re.search(r\"(\\b\\d+.\\b\\d+)\", raw_rating)\n",
    "    if result == None:\n",
    "        return 0\n",
    "    else:\n",
    "        return result.group(1)\n",
    "\n",
    "def clean_raters(raw_raters):\n",
    "    if type(raw_raters) is None:\n",
    "        return 0\n",
    "    result = re.search(r\"((?:\\d+,?\\d+)*) ratings\", raw_raters)\n",
    "    if result == None:\n",
    "        return 0\n",
    "    else:\n",
    "        return result.group(1)\n",
    "\n",
    "# def clean_readers(raw_readers):\n",
    "#     result = re.search(r\"(\\b\\d+)\", raw_readers)\n",
    "#     if result == None:\n",
    "#         return \"None\"\n",
    "#     else:\n",
    "#         return result.group(1)\n",
    "\n",
    "def solve_nonetype_error(value):\n",
    "    if value is not None:\n",
    "        return value.text.strip()\n",
    "    else:\n",
    "        return np.nan\n",
    "\n"
   ]
  },
  {
   "cell_type": "code",
   "execution_count": 19,
   "metadata": {},
   "outputs": [
    {
     "ename": "TypeError",
     "evalue": "expected string or bytes-like object",
     "output_type": "error",
     "traceback": [
      "\u001b[0;31m---------------------------------------------------------------------------\u001b[0m",
      "\u001b[0;31mTypeError\u001b[0m                                 Traceback (most recent call last)",
      "\u001b[0;32m<ipython-input-19-17ef1f9db13d>\u001b[0m in \u001b[0;36m<module>\u001b[0;34m\u001b[0m\n\u001b[1;32m     10\u001b[0m \u001b[0;34m\u001b[0m\u001b[0m\n\u001b[1;32m     11\u001b[0m         \u001b[0;31m# After(use comments)\u001b[0m\u001b[0;34m\u001b[0m\u001b[0;34m\u001b[0m\u001b[0;34m\u001b[0m\u001b[0m\n\u001b[0;32m---> 12\u001b[0;31m         \u001b[0myear\u001b[0m \u001b[0;34m=\u001b[0m \u001b[0mclean_publish_year\u001b[0m\u001b[0;34m(\u001b[0m\u001b[0msolve_nonetype_error\u001b[0m\u001b[0;34m(\u001b[0m\u001b[0mbook\u001b[0m\u001b[0;34m.\u001b[0m\u001b[0mfind\u001b[0m\u001b[0;34m(\u001b[0m\u001b[0;34m'span'\u001b[0m\u001b[0;34m,\u001b[0m \u001b[0mclass_\u001b[0m \u001b[0;34m=\u001b[0m \u001b[0;34m\"greyText smallText\"\u001b[0m\u001b[0;34m)\u001b[0m\u001b[0;34m)\u001b[0m\u001b[0;34m)\u001b[0m\u001b[0;34m\u001b[0m\u001b[0;34m\u001b[0m\u001b[0m\n\u001b[0m\u001b[1;32m     13\u001b[0m         \u001b[0mrating\u001b[0m \u001b[0;34m=\u001b[0m \u001b[0mclean_rating\u001b[0m\u001b[0;34m(\u001b[0m\u001b[0msolve_nonetype_error\u001b[0m\u001b[0;34m(\u001b[0m\u001b[0mbook\u001b[0m\u001b[0;34m.\u001b[0m\u001b[0mfind\u001b[0m\u001b[0;34m(\u001b[0m\u001b[0;34m'span'\u001b[0m\u001b[0;34m,\u001b[0m \u001b[0mclass_\u001b[0m \u001b[0;34m=\u001b[0m \u001b[0;34m\"greyText smallText\"\u001b[0m\u001b[0;34m)\u001b[0m\u001b[0;34m)\u001b[0m\u001b[0;34m)\u001b[0m\u001b[0;34m\u001b[0m\u001b[0;34m\u001b[0m\u001b[0m\n\u001b[1;32m     14\u001b[0m         \u001b[0mraters\u001b[0m \u001b[0;34m=\u001b[0m \u001b[0mstr\u001b[0m\u001b[0;34m(\u001b[0m\u001b[0mclean_raters\u001b[0m\u001b[0;34m(\u001b[0m\u001b[0msolve_nonetype_error\u001b[0m\u001b[0;34m(\u001b[0m\u001b[0mbook\u001b[0m\u001b[0;34m.\u001b[0m\u001b[0mfind\u001b[0m\u001b[0;34m(\u001b[0m\u001b[0;34m'span'\u001b[0m\u001b[0;34m,\u001b[0m \u001b[0mclass_\u001b[0m \u001b[0;34m=\u001b[0m \u001b[0;34m\"greyText smallText\"\u001b[0m\u001b[0;34m)\u001b[0m\u001b[0;34m)\u001b[0m\u001b[0;34m)\u001b[0m\u001b[0;34m)\u001b[0m\u001b[0;34m.\u001b[0m\u001b[0mreplace\u001b[0m\u001b[0;34m(\u001b[0m\u001b[0;34m\",\"\u001b[0m\u001b[0;34m,\u001b[0m \u001b[0;34m\"\"\u001b[0m\u001b[0;34m)\u001b[0m\u001b[0;34m\u001b[0m\u001b[0;34m\u001b[0m\u001b[0m\n",
      "\u001b[0;32m<ipython-input-18-2d3144979f7f>\u001b[0m in \u001b[0;36mclean_publish_year\u001b[0;34m(raw_year)\u001b[0m\n\u001b[1;32m      2\u001b[0m     \u001b[0;32mif\u001b[0m \u001b[0mtype\u001b[0m\u001b[0;34m(\u001b[0m\u001b[0mraw_year\u001b[0m\u001b[0;34m)\u001b[0m \u001b[0;32mis\u001b[0m \u001b[0;32mNone\u001b[0m\u001b[0;34m:\u001b[0m\u001b[0;34m\u001b[0m\u001b[0;34m\u001b[0m\u001b[0m\n\u001b[1;32m      3\u001b[0m         \u001b[0;32mreturn\u001b[0m \u001b[0;36m0\u001b[0m\u001b[0;34m\u001b[0m\u001b[0;34m\u001b[0m\u001b[0m\n\u001b[0;32m----> 4\u001b[0;31m     \u001b[0mresult\u001b[0m \u001b[0;34m=\u001b[0m \u001b[0mre\u001b[0m\u001b[0;34m.\u001b[0m\u001b[0msearch\u001b[0m\u001b[0;34m(\u001b[0m\u001b[0;34mr\"published (\\b\\d+)\"\u001b[0m\u001b[0;34m,\u001b[0m \u001b[0mraw_year\u001b[0m\u001b[0;34m)\u001b[0m\u001b[0;34m\u001b[0m\u001b[0;34m\u001b[0m\u001b[0m\n\u001b[0m\u001b[1;32m      5\u001b[0m     \u001b[0;32mif\u001b[0m \u001b[0mresult\u001b[0m \u001b[0;34m==\u001b[0m \u001b[0;32mNone\u001b[0m\u001b[0;34m:\u001b[0m\u001b[0;34m\u001b[0m\u001b[0;34m\u001b[0m\u001b[0m\n\u001b[1;32m      6\u001b[0m         \u001b[0;32mreturn\u001b[0m \u001b[0;36m0\u001b[0m\u001b[0;34m\u001b[0m\u001b[0;34m\u001b[0m\u001b[0m\n",
      "\u001b[0;32m~/opt/anaconda3/lib/python3.8/re.py\u001b[0m in \u001b[0;36msearch\u001b[0;34m(pattern, string, flags)\u001b[0m\n\u001b[1;32m    199\u001b[0m     \"\"\"Scan through string looking for a match to the pattern, returning\n\u001b[1;32m    200\u001b[0m     a Match object, or None if no match was found.\"\"\"\n\u001b[0;32m--> 201\u001b[0;31m     \u001b[0;32mreturn\u001b[0m \u001b[0m_compile\u001b[0m\u001b[0;34m(\u001b[0m\u001b[0mpattern\u001b[0m\u001b[0;34m,\u001b[0m \u001b[0mflags\u001b[0m\u001b[0;34m)\u001b[0m\u001b[0;34m.\u001b[0m\u001b[0msearch\u001b[0m\u001b[0;34m(\u001b[0m\u001b[0mstring\u001b[0m\u001b[0;34m)\u001b[0m\u001b[0;34m\u001b[0m\u001b[0;34m\u001b[0m\u001b[0m\n\u001b[0m\u001b[1;32m    202\u001b[0m \u001b[0;34m\u001b[0m\u001b[0m\n\u001b[1;32m    203\u001b[0m \u001b[0;32mdef\u001b[0m \u001b[0msub\u001b[0m\u001b[0;34m(\u001b[0m\u001b[0mpattern\u001b[0m\u001b[0;34m,\u001b[0m \u001b[0mrepl\u001b[0m\u001b[0;34m,\u001b[0m \u001b[0mstring\u001b[0m\u001b[0;34m,\u001b[0m \u001b[0mcount\u001b[0m\u001b[0;34m=\u001b[0m\u001b[0;36m0\u001b[0m\u001b[0;34m,\u001b[0m \u001b[0mflags\u001b[0m\u001b[0;34m=\u001b[0m\u001b[0;36m0\u001b[0m\u001b[0;34m)\u001b[0m\u001b[0;34m:\u001b[0m\u001b[0;34m\u001b[0m\u001b[0;34m\u001b[0m\u001b[0m\n",
      "\u001b[0;31mTypeError\u001b[0m: expected string or bytes-like object"
     ]
    }
   ],
   "source": [
    "books = []\n",
    "for page in range(1, 25):\n",
    "    response = requests.get(\"https://www.goodreads.com/shelf/show/horror?page=\" + str(page))\n",
    "    html_soup = BeautifulSoup(response.text, 'html5lib')\n",
    "    book_container = html_soup.find_all('div', class_ = \"elementList\")\n",
    "    for book in book_container:\n",
    "        bookTitle = solve_nonetype_error(book.find('a', class_ = \"bookTitle\"))\n",
    "       \n",
    "        bookAuthor =solve_nonetype_error(book.find('a', class_ = \"authorName\"))\n",
    "\n",
    "        # After(use comments)\n",
    "        year = clean_publish_year(solve_nonetype_error(book.find('span', class_ = \"greyText smallText\")))\n",
    "        rating = clean_rating(solve_nonetype_error(book.find('span', class_ = \"greyText smallText\")))\n",
    "        raters = str(clean_raters(solve_nonetype_error(book.find('span', class_ = \"greyText smallText\")))).replace(\",\", \"\")\n",
    "        int(raters)\n",
    "        # # readerNum = clean_readers(book.find('span', class_ = \"greyText statistic\").text.strip())\n",
    "        \n",
    "        # Before (use comments)\n",
    "        # year = solve_nonetype_error(book.find('span', class_ = \"greyText smallText\"))\n",
    "        # rating = solve_nonetype_error(book.find('span', class_ = \"greyText smallText\"))\n",
    "        # raters = solve_nonetype_error(book.find('span', class_ = \"greyText smallText\"))\n",
    "        # readerNum = book.find('span', class_ = \"greyText statistic\").text.strip()\n",
    "\n",
    "\n",
    "        book_data = [bookTitle, bookAuthor, year, rating, raters]\n",
    "        books.append(book_data)\n",
    "books = pd.DataFrame(books, columns=[\"Title\", \"Author\", \"Year\", \"Rating\", \"Raters\"])\n",
    "books.head()"
   ]
  },
  {
   "cell_type": "code",
   "execution_count": 16,
   "metadata": {},
   "outputs": [
    {
     "name": "stdout",
     "output_type": "stream",
     "text": [
      "<class 'pandas.core.frame.DataFrame'>\n",
      "RangeIndex: 1196 entries, 0 to 1195\n",
      "Data columns (total 5 columns):\n",
      " #   Column  Non-Null Count  Dtype  \n",
      "---  ------  --------------  -----  \n",
      " 0   Title   1196 non-null   object \n",
      " 1   Author  1196 non-null   object \n",
      " 2   Year    1196 non-null   int64  \n",
      " 3   Rating  1196 non-null   float64\n",
      " 4   Raters  1196 non-null   int64  \n",
      "dtypes: float64(1), int64(2), object(2)\n",
      "memory usage: 46.8+ KB\n"
     ]
    }
   ],
   "source": [
    "\n",
    "books.to_csv(\"HorrorAfter.csv\", index = False)\n",
    "ata = pd.read_csv(\"HorrorAfter.csv\")\n",
    "ata.info()\n"
   ]
  }
 ],
 "metadata": {
  "kernelspec": {
   "display_name": "Python 3.8.8 ('base')",
   "language": "python",
   "name": "python3"
  },
  "language_info": {
   "codemirror_mode": {
    "name": "ipython",
    "version": 3
   },
   "file_extension": ".py",
   "mimetype": "text/x-python",
   "name": "python",
   "nbconvert_exporter": "python",
   "pygments_lexer": "ipython3",
   "version": "3.8.8"
  },
  "orig_nbformat": 4,
  "vscode": {
   "interpreter": {
    "hash": "a21a4d8430ca198249bdb796151de090f5777c48c0e324da81ff190d429db2a2"
   }
  }
 },
 "nbformat": 4,
 "nbformat_minor": 2
}
